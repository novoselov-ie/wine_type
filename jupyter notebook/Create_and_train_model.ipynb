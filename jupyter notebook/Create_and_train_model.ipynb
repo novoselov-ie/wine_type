{
 "cells": [
  {
   "cell_type": "code",
   "execution_count": 1,
   "metadata": {
    "executionInfo": {
     "elapsed": 858,
     "status": "ok",
     "timestamp": 1714287500742,
     "user": {
      "displayName": "Илья Новосёлов",
      "userId": "04072096185475752535"
     },
     "user_tz": -420
    },
    "id": "3KohG5i_6VkZ"
   },
   "outputs": [],
   "source": [
    "import matplotlib.pyplot as plt\n",
    "import pandas as pd\n",
    "import numpy as np\n",
    "import torch\n",
    "import torch.optim as optim\n",
    "import torch.nn.functional as F\n",
    "from torch.utils.data import TensorDataset, DataLoader\n",
    "import numpy as np\n",
    "from sklearn.model_selection import train_test_split\n",
    "import mlflow\n",
    "from torchinfo import summary"
   ]
  },
  {
   "cell_type": "code",
   "execution_count": 2,
   "metadata": {
    "executionInfo": {
     "elapsed": 6766,
     "status": "ok",
     "timestamp": 1714283906780,
     "user": {
      "displayName": "Илья Новосёлов",
      "userId": "04072096185475752535"
     },
     "user_tz": -420
    },
    "id": "pHjASZh-6YNf"
   },
   "outputs": [],
   "source": [
    "# Read in white wine data\n",
    "white = pd.read_csv(\"http://archive.ics.uci.edu/ml/machine-learning-databases/wine-quality/winequality-white.csv\", sep =';')\n",
    "\n",
    "# Read in red wine data\n",
    "red = pd.read_csv(\"http://archive.ics.uci.edu/ml/machine-learning-databases/wine-quality/winequality-red.csv\", sep =';')"
   ]
  },
  {
   "cell_type": "code",
   "execution_count": 3,
   "metadata": {
    "colab": {
     "base_uri": "https://localhost:8080/",
     "height": 206
    },
    "executionInfo": {
     "elapsed": 54,
     "status": "ok",
     "timestamp": 1714283906781,
     "user": {
      "displayName": "Илья Новосёлов",
      "userId": "04072096185475752535"
     },
     "user_tz": -420
    },
    "id": "IMGbhFgP-8kY",
    "outputId": "876e328b-3465-4d50-e2d7-ae419d96156d"
   },
   "outputs": [
    {
     "data": {
      "text/html": [
       "<div>\n",
       "<style scoped>\n",
       "    .dataframe tbody tr th:only-of-type {\n",
       "        vertical-align: middle;\n",
       "    }\n",
       "\n",
       "    .dataframe tbody tr th {\n",
       "        vertical-align: top;\n",
       "    }\n",
       "\n",
       "    .dataframe thead th {\n",
       "        text-align: right;\n",
       "    }\n",
       "</style>\n",
       "<table border=\"1\" class=\"dataframe\">\n",
       "  <thead>\n",
       "    <tr style=\"text-align: right;\">\n",
       "      <th></th>\n",
       "      <th>fixed acidity</th>\n",
       "      <th>volatile acidity</th>\n",
       "      <th>citric acid</th>\n",
       "      <th>residual sugar</th>\n",
       "      <th>chlorides</th>\n",
       "      <th>free sulfur dioxide</th>\n",
       "      <th>total sulfur dioxide</th>\n",
       "      <th>density</th>\n",
       "      <th>pH</th>\n",
       "      <th>sulphates</th>\n",
       "      <th>alcohol</th>\n",
       "      <th>quality</th>\n",
       "    </tr>\n",
       "  </thead>\n",
       "  <tbody>\n",
       "    <tr>\n",
       "      <th>0</th>\n",
       "      <td>7.0</td>\n",
       "      <td>0.27</td>\n",
       "      <td>0.36</td>\n",
       "      <td>20.7</td>\n",
       "      <td>0.045</td>\n",
       "      <td>45.0</td>\n",
       "      <td>170.0</td>\n",
       "      <td>1.0010</td>\n",
       "      <td>3.00</td>\n",
       "      <td>0.45</td>\n",
       "      <td>8.8</td>\n",
       "      <td>6</td>\n",
       "    </tr>\n",
       "    <tr>\n",
       "      <th>1</th>\n",
       "      <td>6.3</td>\n",
       "      <td>0.30</td>\n",
       "      <td>0.34</td>\n",
       "      <td>1.6</td>\n",
       "      <td>0.049</td>\n",
       "      <td>14.0</td>\n",
       "      <td>132.0</td>\n",
       "      <td>0.9940</td>\n",
       "      <td>3.30</td>\n",
       "      <td>0.49</td>\n",
       "      <td>9.5</td>\n",
       "      <td>6</td>\n",
       "    </tr>\n",
       "    <tr>\n",
       "      <th>2</th>\n",
       "      <td>8.1</td>\n",
       "      <td>0.28</td>\n",
       "      <td>0.40</td>\n",
       "      <td>6.9</td>\n",
       "      <td>0.050</td>\n",
       "      <td>30.0</td>\n",
       "      <td>97.0</td>\n",
       "      <td>0.9951</td>\n",
       "      <td>3.26</td>\n",
       "      <td>0.44</td>\n",
       "      <td>10.1</td>\n",
       "      <td>6</td>\n",
       "    </tr>\n",
       "    <tr>\n",
       "      <th>3</th>\n",
       "      <td>7.2</td>\n",
       "      <td>0.23</td>\n",
       "      <td>0.32</td>\n",
       "      <td>8.5</td>\n",
       "      <td>0.058</td>\n",
       "      <td>47.0</td>\n",
       "      <td>186.0</td>\n",
       "      <td>0.9956</td>\n",
       "      <td>3.19</td>\n",
       "      <td>0.40</td>\n",
       "      <td>9.9</td>\n",
       "      <td>6</td>\n",
       "    </tr>\n",
       "    <tr>\n",
       "      <th>4</th>\n",
       "      <td>7.2</td>\n",
       "      <td>0.23</td>\n",
       "      <td>0.32</td>\n",
       "      <td>8.5</td>\n",
       "      <td>0.058</td>\n",
       "      <td>47.0</td>\n",
       "      <td>186.0</td>\n",
       "      <td>0.9956</td>\n",
       "      <td>3.19</td>\n",
       "      <td>0.40</td>\n",
       "      <td>9.9</td>\n",
       "      <td>6</td>\n",
       "    </tr>\n",
       "  </tbody>\n",
       "</table>\n",
       "</div>"
      ],
      "text/plain": [
       "   fixed acidity  volatile acidity  citric acid  residual sugar  chlorides  \\\n",
       "0            7.0              0.27         0.36            20.7      0.045   \n",
       "1            6.3              0.30         0.34             1.6      0.049   \n",
       "2            8.1              0.28         0.40             6.9      0.050   \n",
       "3            7.2              0.23         0.32             8.5      0.058   \n",
       "4            7.2              0.23         0.32             8.5      0.058   \n",
       "\n",
       "   free sulfur dioxide  total sulfur dioxide  density    pH  sulphates  \\\n",
       "0                 45.0                 170.0   1.0010  3.00       0.45   \n",
       "1                 14.0                 132.0   0.9940  3.30       0.49   \n",
       "2                 30.0                  97.0   0.9951  3.26       0.44   \n",
       "3                 47.0                 186.0   0.9956  3.19       0.40   \n",
       "4                 47.0                 186.0   0.9956  3.19       0.40   \n",
       "\n",
       "   alcohol  quality  \n",
       "0      8.8        6  \n",
       "1      9.5        6  \n",
       "2     10.1        6  \n",
       "3      9.9        6  \n",
       "4      9.9        6  "
      ]
     },
     "execution_count": 3,
     "metadata": {},
     "output_type": "execute_result"
    }
   ],
   "source": [
    "white.head()"
   ]
  },
  {
   "cell_type": "code",
   "execution_count": 4,
   "metadata": {
    "executionInfo": {
     "elapsed": 48,
     "status": "ok",
     "timestamp": 1714283906781,
     "user": {
      "displayName": "Илья Новосёлов",
      "userId": "04072096185475752535"
     },
     "user_tz": -420
    },
    "id": "mVJPm_TvAK8D"
   },
   "outputs": [],
   "source": [
    "# Add `type` column to `red` with price one\n",
    "red['type'] = 1\n",
    "\n",
    "# Add `type` column to `white` with price zero\n",
    "white['type'] = 0"
   ]
  },
  {
   "cell_type": "code",
   "execution_count": 5,
   "metadata": {
    "executionInfo": {
     "elapsed": 44,
     "status": "ok",
     "timestamp": 1714283906781,
     "user": {
      "displayName": "Илья Новосёлов",
      "userId": "04072096185475752535"
     },
     "user_tz": -420
    },
    "id": "Q_e89lHb-9Uf"
   },
   "outputs": [],
   "source": [
    "# Append `white` to `red`\n",
    "wines = pd.concat([red, white], ignore_index=True)"
   ]
  },
  {
   "cell_type": "code",
   "execution_count": 6,
   "metadata": {
    "colab": {
     "base_uri": "https://localhost:8080/",
     "height": 424
    },
    "executionInfo": {
     "elapsed": 43,
     "status": "ok",
     "timestamp": 1714283906781,
     "user": {
      "displayName": "Илья Новосёлов",
      "userId": "04072096185475752535"
     },
     "user_tz": -420
    },
    "id": "CXI_WE01AmDa",
    "outputId": "eedb7e05-e5d5-4b51-faf0-9e014e0016fe"
   },
   "outputs": [
    {
     "data": {
      "text/html": [
       "<div>\n",
       "<style scoped>\n",
       "    .dataframe tbody tr th:only-of-type {\n",
       "        vertical-align: middle;\n",
       "    }\n",
       "\n",
       "    .dataframe tbody tr th {\n",
       "        vertical-align: top;\n",
       "    }\n",
       "\n",
       "    .dataframe thead th {\n",
       "        text-align: right;\n",
       "    }\n",
       "</style>\n",
       "<table border=\"1\" class=\"dataframe\">\n",
       "  <thead>\n",
       "    <tr style=\"text-align: right;\">\n",
       "      <th></th>\n",
       "      <th>fixed acidity</th>\n",
       "      <th>volatile acidity</th>\n",
       "      <th>citric acid</th>\n",
       "      <th>residual sugar</th>\n",
       "      <th>chlorides</th>\n",
       "      <th>free sulfur dioxide</th>\n",
       "      <th>total sulfur dioxide</th>\n",
       "      <th>density</th>\n",
       "      <th>pH</th>\n",
       "      <th>sulphates</th>\n",
       "      <th>alcohol</th>\n",
       "      <th>quality</th>\n",
       "      <th>type</th>\n",
       "    </tr>\n",
       "  </thead>\n",
       "  <tbody>\n",
       "    <tr>\n",
       "      <th>0</th>\n",
       "      <td>7.4</td>\n",
       "      <td>0.70</td>\n",
       "      <td>0.00</td>\n",
       "      <td>1.9</td>\n",
       "      <td>0.076</td>\n",
       "      <td>11.0</td>\n",
       "      <td>34.0</td>\n",
       "      <td>0.99780</td>\n",
       "      <td>3.51</td>\n",
       "      <td>0.56</td>\n",
       "      <td>9.4</td>\n",
       "      <td>5</td>\n",
       "      <td>1</td>\n",
       "    </tr>\n",
       "    <tr>\n",
       "      <th>1</th>\n",
       "      <td>7.8</td>\n",
       "      <td>0.88</td>\n",
       "      <td>0.00</td>\n",
       "      <td>2.6</td>\n",
       "      <td>0.098</td>\n",
       "      <td>25.0</td>\n",
       "      <td>67.0</td>\n",
       "      <td>0.99680</td>\n",
       "      <td>3.20</td>\n",
       "      <td>0.68</td>\n",
       "      <td>9.8</td>\n",
       "      <td>5</td>\n",
       "      <td>1</td>\n",
       "    </tr>\n",
       "    <tr>\n",
       "      <th>2</th>\n",
       "      <td>7.8</td>\n",
       "      <td>0.76</td>\n",
       "      <td>0.04</td>\n",
       "      <td>2.3</td>\n",
       "      <td>0.092</td>\n",
       "      <td>15.0</td>\n",
       "      <td>54.0</td>\n",
       "      <td>0.99700</td>\n",
       "      <td>3.26</td>\n",
       "      <td>0.65</td>\n",
       "      <td>9.8</td>\n",
       "      <td>5</td>\n",
       "      <td>1</td>\n",
       "    </tr>\n",
       "    <tr>\n",
       "      <th>3</th>\n",
       "      <td>11.2</td>\n",
       "      <td>0.28</td>\n",
       "      <td>0.56</td>\n",
       "      <td>1.9</td>\n",
       "      <td>0.075</td>\n",
       "      <td>17.0</td>\n",
       "      <td>60.0</td>\n",
       "      <td>0.99800</td>\n",
       "      <td>3.16</td>\n",
       "      <td>0.58</td>\n",
       "      <td>9.8</td>\n",
       "      <td>6</td>\n",
       "      <td>1</td>\n",
       "    </tr>\n",
       "    <tr>\n",
       "      <th>4</th>\n",
       "      <td>7.4</td>\n",
       "      <td>0.70</td>\n",
       "      <td>0.00</td>\n",
       "      <td>1.9</td>\n",
       "      <td>0.076</td>\n",
       "      <td>11.0</td>\n",
       "      <td>34.0</td>\n",
       "      <td>0.99780</td>\n",
       "      <td>3.51</td>\n",
       "      <td>0.56</td>\n",
       "      <td>9.4</td>\n",
       "      <td>5</td>\n",
       "      <td>1</td>\n",
       "    </tr>\n",
       "    <tr>\n",
       "      <th>...</th>\n",
       "      <td>...</td>\n",
       "      <td>...</td>\n",
       "      <td>...</td>\n",
       "      <td>...</td>\n",
       "      <td>...</td>\n",
       "      <td>...</td>\n",
       "      <td>...</td>\n",
       "      <td>...</td>\n",
       "      <td>...</td>\n",
       "      <td>...</td>\n",
       "      <td>...</td>\n",
       "      <td>...</td>\n",
       "      <td>...</td>\n",
       "    </tr>\n",
       "    <tr>\n",
       "      <th>6492</th>\n",
       "      <td>6.2</td>\n",
       "      <td>0.21</td>\n",
       "      <td>0.29</td>\n",
       "      <td>1.6</td>\n",
       "      <td>0.039</td>\n",
       "      <td>24.0</td>\n",
       "      <td>92.0</td>\n",
       "      <td>0.99114</td>\n",
       "      <td>3.27</td>\n",
       "      <td>0.50</td>\n",
       "      <td>11.2</td>\n",
       "      <td>6</td>\n",
       "      <td>0</td>\n",
       "    </tr>\n",
       "    <tr>\n",
       "      <th>6493</th>\n",
       "      <td>6.6</td>\n",
       "      <td>0.32</td>\n",
       "      <td>0.36</td>\n",
       "      <td>8.0</td>\n",
       "      <td>0.047</td>\n",
       "      <td>57.0</td>\n",
       "      <td>168.0</td>\n",
       "      <td>0.99490</td>\n",
       "      <td>3.15</td>\n",
       "      <td>0.46</td>\n",
       "      <td>9.6</td>\n",
       "      <td>5</td>\n",
       "      <td>0</td>\n",
       "    </tr>\n",
       "    <tr>\n",
       "      <th>6494</th>\n",
       "      <td>6.5</td>\n",
       "      <td>0.24</td>\n",
       "      <td>0.19</td>\n",
       "      <td>1.2</td>\n",
       "      <td>0.041</td>\n",
       "      <td>30.0</td>\n",
       "      <td>111.0</td>\n",
       "      <td>0.99254</td>\n",
       "      <td>2.99</td>\n",
       "      <td>0.46</td>\n",
       "      <td>9.4</td>\n",
       "      <td>6</td>\n",
       "      <td>0</td>\n",
       "    </tr>\n",
       "    <tr>\n",
       "      <th>6495</th>\n",
       "      <td>5.5</td>\n",
       "      <td>0.29</td>\n",
       "      <td>0.30</td>\n",
       "      <td>1.1</td>\n",
       "      <td>0.022</td>\n",
       "      <td>20.0</td>\n",
       "      <td>110.0</td>\n",
       "      <td>0.98869</td>\n",
       "      <td>3.34</td>\n",
       "      <td>0.38</td>\n",
       "      <td>12.8</td>\n",
       "      <td>7</td>\n",
       "      <td>0</td>\n",
       "    </tr>\n",
       "    <tr>\n",
       "      <th>6496</th>\n",
       "      <td>6.0</td>\n",
       "      <td>0.21</td>\n",
       "      <td>0.38</td>\n",
       "      <td>0.8</td>\n",
       "      <td>0.020</td>\n",
       "      <td>22.0</td>\n",
       "      <td>98.0</td>\n",
       "      <td>0.98941</td>\n",
       "      <td>3.26</td>\n",
       "      <td>0.32</td>\n",
       "      <td>11.8</td>\n",
       "      <td>6</td>\n",
       "      <td>0</td>\n",
       "    </tr>\n",
       "  </tbody>\n",
       "</table>\n",
       "<p>6497 rows × 13 columns</p>\n",
       "</div>"
      ],
      "text/plain": [
       "      fixed acidity  volatile acidity  citric acid  residual sugar  chlorides  \\\n",
       "0               7.4              0.70         0.00             1.9      0.076   \n",
       "1               7.8              0.88         0.00             2.6      0.098   \n",
       "2               7.8              0.76         0.04             2.3      0.092   \n",
       "3              11.2              0.28         0.56             1.9      0.075   \n",
       "4               7.4              0.70         0.00             1.9      0.076   \n",
       "...             ...               ...          ...             ...        ...   \n",
       "6492            6.2              0.21         0.29             1.6      0.039   \n",
       "6493            6.6              0.32         0.36             8.0      0.047   \n",
       "6494            6.5              0.24         0.19             1.2      0.041   \n",
       "6495            5.5              0.29         0.30             1.1      0.022   \n",
       "6496            6.0              0.21         0.38             0.8      0.020   \n",
       "\n",
       "      free sulfur dioxide  total sulfur dioxide  density    pH  sulphates  \\\n",
       "0                    11.0                  34.0  0.99780  3.51       0.56   \n",
       "1                    25.0                  67.0  0.99680  3.20       0.68   \n",
       "2                    15.0                  54.0  0.99700  3.26       0.65   \n",
       "3                    17.0                  60.0  0.99800  3.16       0.58   \n",
       "4                    11.0                  34.0  0.99780  3.51       0.56   \n",
       "...                   ...                   ...      ...   ...        ...   \n",
       "6492                 24.0                  92.0  0.99114  3.27       0.50   \n",
       "6493                 57.0                 168.0  0.99490  3.15       0.46   \n",
       "6494                 30.0                 111.0  0.99254  2.99       0.46   \n",
       "6495                 20.0                 110.0  0.98869  3.34       0.38   \n",
       "6496                 22.0                  98.0  0.98941  3.26       0.32   \n",
       "\n",
       "      alcohol  quality  type  \n",
       "0         9.4        5     1  \n",
       "1         9.8        5     1  \n",
       "2         9.8        5     1  \n",
       "3         9.8        6     1  \n",
       "4         9.4        5     1  \n",
       "...       ...      ...   ...  \n",
       "6492     11.2        6     0  \n",
       "6493      9.6        5     0  \n",
       "6494      9.4        6     0  \n",
       "6495     12.8        7     0  \n",
       "6496     11.8        6     0  \n",
       "\n",
       "[6497 rows x 13 columns]"
      ]
     },
     "execution_count": 6,
     "metadata": {},
     "output_type": "execute_result"
    }
   ],
   "source": [
    "wines"
   ]
  },
  {
   "cell_type": "code",
   "execution_count": 7,
   "metadata": {
    "executionInfo": {
     "elapsed": 454,
     "status": "ok",
     "timestamp": 1714296394545,
     "user": {
      "displayName": "Илья Новосёлов",
      "userId": "04072096185475752535"
     },
     "user_tz": -420
    },
    "id": "htwdg_IbBXLI"
   },
   "outputs": [],
   "source": [
    "X = wines.drop('type', axis=1).values\n",
    "y = wines['type'].values\n",
    "# X = wines.drop('type', axis=1)\n",
    "# y = wines['type']"
   ]
  },
  {
   "cell_type": "code",
   "execution_count": 8,
   "metadata": {
    "colab": {
     "base_uri": "https://localhost:8080/"
    },
    "executionInfo": {
     "elapsed": 3,
     "status": "ok",
     "timestamp": 1714296395337,
     "user": {
      "displayName": "Илья Новосёлов",
      "userId": "04072096185475752535"
     },
     "user_tz": -420
    },
    "id": "rsZJtATvCFs-",
    "outputId": "4629593d-ba3c-4087-b80d-0fb0d8cb135e"
   },
   "outputs": [
    {
     "data": {
      "text/plain": [
       "((6497, 12), (6497,))"
      ]
     },
     "execution_count": 8,
     "metadata": {},
     "output_type": "execute_result"
    }
   ],
   "source": [
    "X.shape, y.shape"
   ]
  },
  {
   "cell_type": "code",
   "execution_count": 9,
   "metadata": {
    "executionInfo": {
     "elapsed": 471,
     "status": "ok",
     "timestamp": 1714289321771,
     "user": {
      "displayName": "Илья Новосёлов",
      "userId": "04072096185475752535"
     },
     "user_tz": -420
    },
    "id": "giBH1rRWbJ35"
   },
   "outputs": [],
   "source": [
    "X_tensor = torch.Tensor(X)\n",
    "y_tensor = torch.Tensor(y)\n",
    "y_tensor = y_tensor.type(torch.LongTensor)\n",
    "#y_tensor = y_tensor.unsqueeze(1)"
   ]
  },
  {
   "cell_type": "code",
   "execution_count": 10,
   "metadata": {
    "executionInfo": {
     "elapsed": 3,
     "status": "ok",
     "timestamp": 1714296396427,
     "user": {
      "displayName": "Илья Новосёлов",
      "userId": "04072096185475752535"
     },
     "user_tz": -420
    },
    "id": "hWxij5kRAoFO"
   },
   "outputs": [],
   "source": [
    "X_train, X_temp, y_train, y_temp = train_test_split(X_tensor, y_tensor, test_size = 0.2, random_state = 42)\n",
    "X_test, X_valid, y_test, y_valid = train_test_split(X_temp, y_temp, test_size = 0.95, random_state = 42)\n",
    "# X_train, X_temp, y_train, y_temp = train_test_split(X, y, test_size = 0.2, random_state = 42)\n",
    "# X_test, X_valid, y_test, y_valid = train_test_split(X_temp, y_temp, test_size = 0.95, random_state = 42)"
   ]
  },
  {
   "cell_type": "code",
   "execution_count": 17,
   "metadata": {
    "executionInfo": {
     "elapsed": 2,
     "status": "ok",
     "timestamp": 1714296397037,
     "user": {
      "displayName": "Илья Новосёлов",
      "userId": "04072096185475752535"
     },
     "user_tz": -420
    },
    "id": "q7gL_3cM6Tos"
   },
   "outputs": [
    {
     "ename": "AttributeError",
     "evalue": "'Tensor' object has no attribute 'reset_index'",
     "output_type": "error",
     "traceback": [
      "\u001b[1;31m---------------------------------------------------------------------------\u001b[0m",
      "\u001b[1;31mAttributeError\u001b[0m                            Traceback (most recent call last)",
      "Cell \u001b[1;32mIn[17], line 1\u001b[0m\n\u001b[1;32m----> 1\u001b[0m X_test\u001b[38;5;241m.\u001b[39mreset_index(drop\u001b[38;5;241m=\u001b[39m \u001b[38;5;28;01mTrue\u001b[39;00m , inplace\u001b[38;5;241m=\u001b[39m \u001b[38;5;28;01mTrue\u001b[39;00m )\n",
      "\u001b[1;31mAttributeError\u001b[0m: 'Tensor' object has no attribute 'reset_index'"
     ]
    }
   ],
   "source": [
    "X_test.reset_index(drop= True , inplace= True )"
   ]
  },
  {
   "cell_type": "code",
   "execution_count": 67,
   "metadata": {},
   "outputs": [
    {
     "data": {
      "text/plain": [
       "array([[6.60e+00, 2.40e-01, 3.50e-01, ..., 3.70e-01, 1.05e+01, 5.00e+00],\n",
       "       [8.30e+00, 2.80e-01, 4.80e-01, ..., 6.20e-01, 1.24e+01, 7.00e+00],\n",
       "       [7.70e+00, 7.15e-01, 1.00e-02, ..., 5.70e-01, 1.18e+01, 6.00e+00],\n",
       "       ...,\n",
       "       [6.40e+00, 3.70e-01, 2.00e-01, ..., 4.30e-01, 9.50e+00, 5.00e+00],\n",
       "       [6.50e+00, 2.60e-01, 5.00e-01, ..., 4.70e-01, 9.50e+00, 5.00e+00],\n",
       "       [7.20e+00, 6.20e-01, 6.00e-02, ..., 5.40e-01, 9.50e+00, 5.00e+00]],\n",
       "      dtype=float32)"
      ]
     },
     "execution_count": 67,
     "metadata": {},
     "output_type": "execute_result"
    }
   ],
   "source": [
    "X_train.numpy()"
   ]
  },
  {
   "cell_type": "code",
   "execution_count": 213,
   "metadata": {
    "executionInfo": {
     "elapsed": 4,
     "status": "ok",
     "timestamp": 1714296398674,
     "user": {
      "displayName": "Илья Новосёлов",
      "userId": "04072096185475752535"
     },
     "user_tz": -420
    },
    "id": "PZSWf-sr7NGV"
   },
   "outputs": [],
   "source": [
    "#create JSON file\n",
    "json_file = X_test.to_json (orient='split', index=False)\n",
    "\n",
    "#export JSON file\n",
    "with open('/content/drive/MyDrive/Colab Notebooks/Alfa/Data_wine.json', 'w') as f:\n",
    " f.write(json_file)"
   ]
  },
  {
   "cell_type": "code",
   "execution_count": 217,
   "metadata": {
    "colab": {
     "base_uri": "https://localhost:8080/",
     "height": 424
    },
    "executionInfo": {
     "elapsed": 520,
     "status": "ok",
     "timestamp": 1714296507773,
     "user": {
      "displayName": "Илья Новосёлов",
      "userId": "04072096185475752535"
     },
     "user_tz": -420
    },
    "id": "ALPu01MUCMMr",
    "outputId": "6a9db54a-fb4b-4da6-dc70-91650cc4be19"
   },
   "outputs": [
    {
     "data": {
      "application/vnd.google.colaboratory.intrinsic+json": {
       "summary": "{\n  \"name\": \"X_test\",\n  \"rows\": 65,\n  \"fields\": [\n    {\n      \"column\": \"fixed acidity\",\n      \"properties\": {\n        \"dtype\": \"number\",\n        \"std\": 1.3063785821881804,\n        \"min\": 5.1,\n        \"max\": 14.3,\n        \"num_unique_values\": 33,\n        \"samples\": [\n          8.0,\n          5.4,\n          7.6\n        ],\n        \"semantic_type\": \"\",\n        \"description\": \"\"\n      }\n    },\n    {\n      \"column\": \"volatile acidity\",\n      \"properties\": {\n        \"dtype\": \"number\",\n        \"std\": 0.1844532265601812,\n        \"min\": 0.12,\n        \"max\": 0.835,\n        \"num_unique_values\": 38,\n        \"samples\": [\n          0.12,\n          0.705,\n          0.28\n        ],\n        \"semantic_type\": \"\",\n        \"description\": \"\"\n      }\n    },\n    {\n      \"column\": \"citric acid\",\n      \"properties\": {\n        \"dtype\": \"number\",\n        \"std\": 0.15732163282220965,\n        \"min\": 0.0,\n        \"max\": 0.74,\n        \"num_unique_values\": 35,\n        \"samples\": [\n          0.35,\n          0.21,\n          0.32\n        ],\n        \"semantic_type\": \"\",\n        \"description\": \"\"\n      }\n    },\n    {\n      \"column\": \"residual sugar\",\n      \"properties\": {\n        \"dtype\": \"number\",\n        \"std\": 3.991910690576439,\n        \"min\": 0.7,\n        \"max\": 14.4,\n        \"num_unique_values\": 44,\n        \"samples\": [\n          2.7,\n          6.6,\n          1.4\n        ],\n        \"semantic_type\": \"\",\n        \"description\": \"\"\n      }\n    },\n    {\n      \"column\": \"chlorides\",\n      \"properties\": {\n        \"dtype\": \"number\",\n        \"std\": 0.05120014930116453,\n        \"min\": 0.021,\n        \"max\": 0.346,\n        \"num_unique_values\": 39,\n        \"samples\": [\n          0.044,\n          0.157,\n          0.081\n        ],\n        \"semantic_type\": \"\",\n        \"description\": \"\"\n      }\n    },\n    {\n      \"column\": \"free sulfur dioxide\",\n      \"properties\": {\n        \"dtype\": \"number\",\n        \"std\": 18.098515132463216,\n        \"min\": 3.0,\n        \"max\": 79.0,\n        \"num_unique_values\": 37,\n        \"samples\": [\n          70.0,\n          26.0,\n          29.0\n        ],\n        \"semantic_type\": \"\",\n        \"description\": \"\"\n      }\n    },\n    {\n      \"column\": \"total sulfur dioxide\",\n      \"properties\": {\n        \"dtype\": \"number\",\n        \"std\": 56.32363983130133,\n        \"min\": 15.0,\n        \"max\": 215.0,\n        \"num_unique_values\": 51,\n        \"samples\": [\n          122.0,\n          82.0,\n          90.0\n        ],\n        \"semantic_type\": \"\",\n        \"description\": \"\"\n      }\n    },\n    {\n      \"column\": \"density\",\n      \"properties\": {\n        \"dtype\": \"number\",\n        \"std\": 0.002887950572571382,\n        \"min\": 0.9886,\n        \"max\": 1.0008,\n        \"num_unique_values\": 57,\n        \"samples\": [\n          0.9993,\n          0.9982,\n          0.99437\n        ],\n        \"semantic_type\": \"\",\n        \"description\": \"\"\n      }\n    },\n    {\n      \"column\": \"pH\",\n      \"properties\": {\n        \"dtype\": \"number\",\n        \"std\": 0.14520426593648633,\n        \"min\": 2.86,\n        \"max\": 3.57,\n        \"num_unique_values\": 39,\n        \"samples\": [\n          3.41,\n          3.21,\n          3.28\n        ],\n        \"semantic_type\": \"\",\n        \"description\": \"\"\n      }\n    },\n    {\n      \"column\": \"sulphates\",\n      \"properties\": {\n        \"dtype\": \"number\",\n        \"std\": 0.13669308687713508,\n        \"min\": 0.3,\n        \"max\": 0.95,\n        \"num_unique_values\": 37,\n        \"samples\": [\n          0.42,\n          0.55,\n          0.48\n        ],\n        \"semantic_type\": \"\",\n        \"description\": \"\"\n      }\n    },\n    {\n      \"column\": \"alcohol\",\n      \"properties\": {\n        \"dtype\": \"number\",\n        \"std\": 1.214242403881785,\n        \"min\": 8.4,\n        \"max\": 13.0,\n        \"num_unique_values\": 34,\n        \"samples\": [\n          11.3,\n          12.8,\n          11.2\n        ],\n        \"semantic_type\": \"\",\n        \"description\": \"\"\n      }\n    },\n    {\n      \"column\": \"quality\",\n      \"properties\": {\n        \"dtype\": \"number\",\n        \"std\": 1,\n        \"min\": 3,\n        \"max\": 8,\n        \"num_unique_values\": 6,\n        \"samples\": [\n          6,\n          5,\n          3\n        ],\n        \"semantic_type\": \"\",\n        \"description\": \"\"\n      }\n    }\n  ]\n}",
       "type": "dataframe",
       "variable_name": "X_test"
      },
      "text/html": [
       "\n",
       "  <div id=\"df-391096d7-e7d0-4f8f-b2c4-5aa9fff16645\" class=\"colab-df-container\">\n",
       "    <div>\n",
       "<style scoped>\n",
       "    .dataframe tbody tr th:only-of-type {\n",
       "        vertical-align: middle;\n",
       "    }\n",
       "\n",
       "    .dataframe tbody tr th {\n",
       "        vertical-align: top;\n",
       "    }\n",
       "\n",
       "    .dataframe thead th {\n",
       "        text-align: right;\n",
       "    }\n",
       "</style>\n",
       "<table border=\"1\" class=\"dataframe\">\n",
       "  <thead>\n",
       "    <tr style=\"text-align: right;\">\n",
       "      <th></th>\n",
       "      <th>fixed acidity</th>\n",
       "      <th>volatile acidity</th>\n",
       "      <th>citric acid</th>\n",
       "      <th>residual sugar</th>\n",
       "      <th>chlorides</th>\n",
       "      <th>free sulfur dioxide</th>\n",
       "      <th>total sulfur dioxide</th>\n",
       "      <th>density</th>\n",
       "      <th>pH</th>\n",
       "      <th>sulphates</th>\n",
       "      <th>alcohol</th>\n",
       "      <th>quality</th>\n",
       "    </tr>\n",
       "  </thead>\n",
       "  <tbody>\n",
       "    <tr>\n",
       "      <th>0</th>\n",
       "      <td>8.4</td>\n",
       "      <td>0.350</td>\n",
       "      <td>0.56</td>\n",
       "      <td>13.8</td>\n",
       "      <td>0.048</td>\n",
       "      <td>55.0</td>\n",
       "      <td>190.0</td>\n",
       "      <td>0.99930</td>\n",
       "      <td>3.07</td>\n",
       "      <td>0.58</td>\n",
       "      <td>9.4</td>\n",
       "      <td>6</td>\n",
       "    </tr>\n",
       "    <tr>\n",
       "      <th>1</th>\n",
       "      <td>5.6</td>\n",
       "      <td>0.185</td>\n",
       "      <td>0.19</td>\n",
       "      <td>7.1</td>\n",
       "      <td>0.048</td>\n",
       "      <td>36.0</td>\n",
       "      <td>110.0</td>\n",
       "      <td>0.99438</td>\n",
       "      <td>3.26</td>\n",
       "      <td>0.41</td>\n",
       "      <td>9.5</td>\n",
       "      <td>6</td>\n",
       "    </tr>\n",
       "    <tr>\n",
       "      <th>2</th>\n",
       "      <td>6.6</td>\n",
       "      <td>0.380</td>\n",
       "      <td>0.36</td>\n",
       "      <td>9.2</td>\n",
       "      <td>0.061</td>\n",
       "      <td>42.0</td>\n",
       "      <td>214.0</td>\n",
       "      <td>0.99760</td>\n",
       "      <td>3.31</td>\n",
       "      <td>0.56</td>\n",
       "      <td>9.4</td>\n",
       "      <td>5</td>\n",
       "    </tr>\n",
       "    <tr>\n",
       "      <th>3</th>\n",
       "      <td>8.5</td>\n",
       "      <td>0.220</td>\n",
       "      <td>0.34</td>\n",
       "      <td>0.7</td>\n",
       "      <td>0.040</td>\n",
       "      <td>5.0</td>\n",
       "      <td>25.0</td>\n",
       "      <td>0.99180</td>\n",
       "      <td>3.04</td>\n",
       "      <td>0.37</td>\n",
       "      <td>10.5</td>\n",
       "      <td>4</td>\n",
       "    </tr>\n",
       "    <tr>\n",
       "      <th>4</th>\n",
       "      <td>6.5</td>\n",
       "      <td>0.280</td>\n",
       "      <td>0.34</td>\n",
       "      <td>3.6</td>\n",
       "      <td>0.040</td>\n",
       "      <td>29.0</td>\n",
       "      <td>121.0</td>\n",
       "      <td>0.99111</td>\n",
       "      <td>3.28</td>\n",
       "      <td>0.48</td>\n",
       "      <td>12.1</td>\n",
       "      <td>7</td>\n",
       "    </tr>\n",
       "    <tr>\n",
       "      <th>...</th>\n",
       "      <td>...</td>\n",
       "      <td>...</td>\n",
       "      <td>...</td>\n",
       "      <td>...</td>\n",
       "      <td>...</td>\n",
       "      <td>...</td>\n",
       "      <td>...</td>\n",
       "      <td>...</td>\n",
       "      <td>...</td>\n",
       "      <td>...</td>\n",
       "      <td>...</td>\n",
       "      <td>...</td>\n",
       "    </tr>\n",
       "    <tr>\n",
       "      <th>60</th>\n",
       "      <td>7.5</td>\n",
       "      <td>0.630</td>\n",
       "      <td>0.27</td>\n",
       "      <td>2.0</td>\n",
       "      <td>0.083</td>\n",
       "      <td>17.0</td>\n",
       "      <td>91.0</td>\n",
       "      <td>0.99616</td>\n",
       "      <td>3.26</td>\n",
       "      <td>0.58</td>\n",
       "      <td>9.8</td>\n",
       "      <td>6</td>\n",
       "    </tr>\n",
       "    <tr>\n",
       "      <th>61</th>\n",
       "      <td>7.2</td>\n",
       "      <td>0.390</td>\n",
       "      <td>0.54</td>\n",
       "      <td>1.4</td>\n",
       "      <td>0.157</td>\n",
       "      <td>34.0</td>\n",
       "      <td>132.0</td>\n",
       "      <td>0.99449</td>\n",
       "      <td>3.11</td>\n",
       "      <td>0.53</td>\n",
       "      <td>9.0</td>\n",
       "      <td>6</td>\n",
       "    </tr>\n",
       "    <tr>\n",
       "      <th>62</th>\n",
       "      <td>8.0</td>\n",
       "      <td>0.705</td>\n",
       "      <td>0.05</td>\n",
       "      <td>1.9</td>\n",
       "      <td>0.074</td>\n",
       "      <td>8.0</td>\n",
       "      <td>19.0</td>\n",
       "      <td>0.99620</td>\n",
       "      <td>3.34</td>\n",
       "      <td>0.95</td>\n",
       "      <td>10.5</td>\n",
       "      <td>6</td>\n",
       "    </tr>\n",
       "    <tr>\n",
       "      <th>63</th>\n",
       "      <td>7.4</td>\n",
       "      <td>0.360</td>\n",
       "      <td>0.33</td>\n",
       "      <td>1.4</td>\n",
       "      <td>0.025</td>\n",
       "      <td>27.0</td>\n",
       "      <td>55.0</td>\n",
       "      <td>0.99150</td>\n",
       "      <td>3.21</td>\n",
       "      <td>0.33</td>\n",
       "      <td>11.2</td>\n",
       "      <td>6</td>\n",
       "    </tr>\n",
       "    <tr>\n",
       "      <th>64</th>\n",
       "      <td>7.8</td>\n",
       "      <td>0.200</td>\n",
       "      <td>0.20</td>\n",
       "      <td>1.4</td>\n",
       "      <td>0.036</td>\n",
       "      <td>25.0</td>\n",
       "      <td>83.0</td>\n",
       "      <td>0.99088</td>\n",
       "      <td>3.03</td>\n",
       "      <td>0.46</td>\n",
       "      <td>11.7</td>\n",
       "      <td>6</td>\n",
       "    </tr>\n",
       "  </tbody>\n",
       "</table>\n",
       "<p>65 rows × 12 columns</p>\n",
       "</div>\n",
       "    <div class=\"colab-df-buttons\">\n",
       "\n",
       "  <div class=\"colab-df-container\">\n",
       "    <button class=\"colab-df-convert\" onclick=\"convertToInteractive('df-391096d7-e7d0-4f8f-b2c4-5aa9fff16645')\"\n",
       "            title=\"Convert this dataframe to an interactive table.\"\n",
       "            style=\"display:none;\">\n",
       "\n",
       "  <svg xmlns=\"http://www.w3.org/2000/svg\" height=\"24px\" viewBox=\"0 -960 960 960\">\n",
       "    <path d=\"M120-120v-720h720v720H120Zm60-500h600v-160H180v160Zm220 220h160v-160H400v160Zm0 220h160v-160H400v160ZM180-400h160v-160H180v160Zm440 0h160v-160H620v160ZM180-180h160v-160H180v160Zm440 0h160v-160H620v160Z\"/>\n",
       "  </svg>\n",
       "    </button>\n",
       "\n",
       "  <style>\n",
       "    .colab-df-container {\n",
       "      display:flex;\n",
       "      gap: 12px;\n",
       "    }\n",
       "\n",
       "    .colab-df-convert {\n",
       "      background-color: #E8F0FE;\n",
       "      border: none;\n",
       "      border-radius: 50%;\n",
       "      cursor: pointer;\n",
       "      display: none;\n",
       "      fill: #1967D2;\n",
       "      height: 32px;\n",
       "      padding: 0 0 0 0;\n",
       "      width: 32px;\n",
       "    }\n",
       "\n",
       "    .colab-df-convert:hover {\n",
       "      background-color: #E2EBFA;\n",
       "      box-shadow: 0px 1px 2px rgba(60, 64, 67, 0.3), 0px 1px 3px 1px rgba(60, 64, 67, 0.15);\n",
       "      fill: #174EA6;\n",
       "    }\n",
       "\n",
       "    .colab-df-buttons div {\n",
       "      margin-bottom: 4px;\n",
       "    }\n",
       "\n",
       "    [theme=dark] .colab-df-convert {\n",
       "      background-color: #3B4455;\n",
       "      fill: #D2E3FC;\n",
       "    }\n",
       "\n",
       "    [theme=dark] .colab-df-convert:hover {\n",
       "      background-color: #434B5C;\n",
       "      box-shadow: 0px 1px 3px 1px rgba(0, 0, 0, 0.15);\n",
       "      filter: drop-shadow(0px 1px 2px rgba(0, 0, 0, 0.3));\n",
       "      fill: #FFFFFF;\n",
       "    }\n",
       "  </style>\n",
       "\n",
       "    <script>\n",
       "      const buttonEl =\n",
       "        document.querySelector('#df-391096d7-e7d0-4f8f-b2c4-5aa9fff16645 button.colab-df-convert');\n",
       "      buttonEl.style.display =\n",
       "        google.colab.kernel.accessAllowed ? 'block' : 'none';\n",
       "\n",
       "      async function convertToInteractive(key) {\n",
       "        const element = document.querySelector('#df-391096d7-e7d0-4f8f-b2c4-5aa9fff16645');\n",
       "        const dataTable =\n",
       "          await google.colab.kernel.invokeFunction('convertToInteractive',\n",
       "                                                    [key], {});\n",
       "        if (!dataTable) return;\n",
       "\n",
       "        const docLinkHtml = 'Like what you see? Visit the ' +\n",
       "          '<a target=\"_blank\" href=https://colab.research.google.com/notebooks/data_table.ipynb>data table notebook</a>'\n",
       "          + ' to learn more about interactive tables.';\n",
       "        element.innerHTML = '';\n",
       "        dataTable['output_type'] = 'display_data';\n",
       "        await google.colab.output.renderOutput(dataTable, element);\n",
       "        const docLink = document.createElement('div');\n",
       "        docLink.innerHTML = docLinkHtml;\n",
       "        element.appendChild(docLink);\n",
       "      }\n",
       "    </script>\n",
       "  </div>\n",
       "\n",
       "\n",
       "<div id=\"df-e6aadb42-1068-4fdb-8ba4-21d991d26565\">\n",
       "  <button class=\"colab-df-quickchart\" onclick=\"quickchart('df-e6aadb42-1068-4fdb-8ba4-21d991d26565')\"\n",
       "            title=\"Suggest charts\"\n",
       "            style=\"display:none;\">\n",
       "\n",
       "<svg xmlns=\"http://www.w3.org/2000/svg\" height=\"24px\"viewBox=\"0 0 24 24\"\n",
       "     width=\"24px\">\n",
       "    <g>\n",
       "        <path d=\"M19 3H5c-1.1 0-2 .9-2 2v14c0 1.1.9 2 2 2h14c1.1 0 2-.9 2-2V5c0-1.1-.9-2-2-2zM9 17H7v-7h2v7zm4 0h-2V7h2v10zm4 0h-2v-4h2v4z\"/>\n",
       "    </g>\n",
       "</svg>\n",
       "  </button>\n",
       "\n",
       "<style>\n",
       "  .colab-df-quickchart {\n",
       "      --bg-color: #E8F0FE;\n",
       "      --fill-color: #1967D2;\n",
       "      --hover-bg-color: #E2EBFA;\n",
       "      --hover-fill-color: #174EA6;\n",
       "      --disabled-fill-color: #AAA;\n",
       "      --disabled-bg-color: #DDD;\n",
       "  }\n",
       "\n",
       "  [theme=dark] .colab-df-quickchart {\n",
       "      --bg-color: #3B4455;\n",
       "      --fill-color: #D2E3FC;\n",
       "      --hover-bg-color: #434B5C;\n",
       "      --hover-fill-color: #FFFFFF;\n",
       "      --disabled-bg-color: #3B4455;\n",
       "      --disabled-fill-color: #666;\n",
       "  }\n",
       "\n",
       "  .colab-df-quickchart {\n",
       "    background-color: var(--bg-color);\n",
       "    border: none;\n",
       "    border-radius: 50%;\n",
       "    cursor: pointer;\n",
       "    display: none;\n",
       "    fill: var(--fill-color);\n",
       "    height: 32px;\n",
       "    padding: 0;\n",
       "    width: 32px;\n",
       "  }\n",
       "\n",
       "  .colab-df-quickchart:hover {\n",
       "    background-color: var(--hover-bg-color);\n",
       "    box-shadow: 0 1px 2px rgba(60, 64, 67, 0.3), 0 1px 3px 1px rgba(60, 64, 67, 0.15);\n",
       "    fill: var(--button-hover-fill-color);\n",
       "  }\n",
       "\n",
       "  .colab-df-quickchart-complete:disabled,\n",
       "  .colab-df-quickchart-complete:disabled:hover {\n",
       "    background-color: var(--disabled-bg-color);\n",
       "    fill: var(--disabled-fill-color);\n",
       "    box-shadow: none;\n",
       "  }\n",
       "\n",
       "  .colab-df-spinner {\n",
       "    border: 2px solid var(--fill-color);\n",
       "    border-color: transparent;\n",
       "    border-bottom-color: var(--fill-color);\n",
       "    animation:\n",
       "      spin 1s steps(1) infinite;\n",
       "  }\n",
       "\n",
       "  @keyframes spin {\n",
       "    0% {\n",
       "      border-color: transparent;\n",
       "      border-bottom-color: var(--fill-color);\n",
       "      border-left-color: var(--fill-color);\n",
       "    }\n",
       "    20% {\n",
       "      border-color: transparent;\n",
       "      border-left-color: var(--fill-color);\n",
       "      border-top-color: var(--fill-color);\n",
       "    }\n",
       "    30% {\n",
       "      border-color: transparent;\n",
       "      border-left-color: var(--fill-color);\n",
       "      border-top-color: var(--fill-color);\n",
       "      border-right-color: var(--fill-color);\n",
       "    }\n",
       "    40% {\n",
       "      border-color: transparent;\n",
       "      border-right-color: var(--fill-color);\n",
       "      border-top-color: var(--fill-color);\n",
       "    }\n",
       "    60% {\n",
       "      border-color: transparent;\n",
       "      border-right-color: var(--fill-color);\n",
       "    }\n",
       "    80% {\n",
       "      border-color: transparent;\n",
       "      border-right-color: var(--fill-color);\n",
       "      border-bottom-color: var(--fill-color);\n",
       "    }\n",
       "    90% {\n",
       "      border-color: transparent;\n",
       "      border-bottom-color: var(--fill-color);\n",
       "    }\n",
       "  }\n",
       "</style>\n",
       "\n",
       "  <script>\n",
       "    async function quickchart(key) {\n",
       "      const quickchartButtonEl =\n",
       "        document.querySelector('#' + key + ' button');\n",
       "      quickchartButtonEl.disabled = true;  // To prevent multiple clicks.\n",
       "      quickchartButtonEl.classList.add('colab-df-spinner');\n",
       "      try {\n",
       "        const charts = await google.colab.kernel.invokeFunction(\n",
       "            'suggestCharts', [key], {});\n",
       "      } catch (error) {\n",
       "        console.error('Error during call to suggestCharts:', error);\n",
       "      }\n",
       "      quickchartButtonEl.classList.remove('colab-df-spinner');\n",
       "      quickchartButtonEl.classList.add('colab-df-quickchart-complete');\n",
       "    }\n",
       "    (() => {\n",
       "      let quickchartButtonEl =\n",
       "        document.querySelector('#df-e6aadb42-1068-4fdb-8ba4-21d991d26565 button');\n",
       "      quickchartButtonEl.style.display =\n",
       "        google.colab.kernel.accessAllowed ? 'block' : 'none';\n",
       "    })();\n",
       "  </script>\n",
       "</div>\n",
       "    </div>\n",
       "  </div>\n"
      ],
      "text/plain": [
       "    fixed acidity  volatile acidity  citric acid  residual sugar  chlorides  \\\n",
       "0             8.4             0.350         0.56            13.8      0.048   \n",
       "1             5.6             0.185         0.19             7.1      0.048   \n",
       "2             6.6             0.380         0.36             9.2      0.061   \n",
       "3             8.5             0.220         0.34             0.7      0.040   \n",
       "4             6.5             0.280         0.34             3.6      0.040   \n",
       "..            ...               ...          ...             ...        ...   \n",
       "60            7.5             0.630         0.27             2.0      0.083   \n",
       "61            7.2             0.390         0.54             1.4      0.157   \n",
       "62            8.0             0.705         0.05             1.9      0.074   \n",
       "63            7.4             0.360         0.33             1.4      0.025   \n",
       "64            7.8             0.200         0.20             1.4      0.036   \n",
       "\n",
       "    free sulfur dioxide  total sulfur dioxide  density    pH  sulphates  \\\n",
       "0                  55.0                 190.0  0.99930  3.07       0.58   \n",
       "1                  36.0                 110.0  0.99438  3.26       0.41   \n",
       "2                  42.0                 214.0  0.99760  3.31       0.56   \n",
       "3                   5.0                  25.0  0.99180  3.04       0.37   \n",
       "4                  29.0                 121.0  0.99111  3.28       0.48   \n",
       "..                  ...                   ...      ...   ...        ...   \n",
       "60                 17.0                  91.0  0.99616  3.26       0.58   \n",
       "61                 34.0                 132.0  0.99449  3.11       0.53   \n",
       "62                  8.0                  19.0  0.99620  3.34       0.95   \n",
       "63                 27.0                  55.0  0.99150  3.21       0.33   \n",
       "64                 25.0                  83.0  0.99088  3.03       0.46   \n",
       "\n",
       "    alcohol  quality  \n",
       "0       9.4        6  \n",
       "1       9.5        6  \n",
       "2       9.4        5  \n",
       "3      10.5        4  \n",
       "4      12.1        7  \n",
       "..      ...      ...  \n",
       "60      9.8        6  \n",
       "61      9.0        6  \n",
       "62     10.5        6  \n",
       "63     11.2        6  \n",
       "64     11.7        6  \n",
       "\n",
       "[65 rows x 12 columns]"
      ]
     },
     "execution_count": 217,
     "metadata": {},
     "output_type": "execute_result"
    }
   ],
   "source": [
    "X_test"
   ]
  },
  {
   "cell_type": "code",
   "execution_count": 214,
   "metadata": {
    "executionInfo": {
     "elapsed": 3,
     "status": "ok",
     "timestamp": 1714296400233,
     "user": {
      "displayName": "Илья Новосёлов",
      "userId": "04072096185475752535"
     },
     "user_tz": -420
    },
    "id": "disUDX93_n6N"
   },
   "outputs": [],
   "source": [
    "data = np.where(y_test == 0, 'white', 'red')"
   ]
  },
  {
   "cell_type": "code",
   "execution_count": 215,
   "metadata": {
    "executionInfo": {
     "elapsed": 4,
     "status": "ok",
     "timestamp": 1714296401481,
     "user": {
      "displayName": "Илья Новосёлов",
      "userId": "04072096185475752535"
     },
     "user_tz": -420
    },
    "id": "IEm5QF3DBJaW"
   },
   "outputs": [],
   "source": [
    "wine_data = {'type': data.tolist()}"
   ]
  },
  {
   "cell_type": "code",
   "execution_count": 216,
   "metadata": {
    "executionInfo": {
     "elapsed": 3,
     "status": "ok",
     "timestamp": 1714296403244,
     "user": {
      "displayName": "Илья Новосёлов",
      "userId": "04072096185475752535"
     },
     "user_tz": -420
    },
    "id": "sO7_xzI58bdg"
   },
   "outputs": [],
   "source": [
    "import json\n",
    "with open('/content/drive/MyDrive/Colab Notebooks/Alfa/Wine_type.json', 'w') as json_file:\n",
    "    json.dump(wine_data, json_file)"
   ]
  },
  {
   "cell_type": "code",
   "execution_count": null,
   "metadata": {},
   "outputs": [],
   "source": []
  },
  {
   "cell_type": "code",
   "execution_count": null,
   "metadata": {},
   "outputs": [],
   "source": []
  },
  {
   "cell_type": "code",
   "execution_count": 11,
   "metadata": {
    "colab": {
     "base_uri": "https://localhost:8080/"
    },
    "executionInfo": {
     "elapsed": 5,
     "status": "ok",
     "timestamp": 1714289324097,
     "user": {
      "displayName": "Илья Новосёлов",
      "userId": "04072096185475752535"
     },
     "user_tz": -420
    },
    "id": "IyTM1sjTDaF7",
    "outputId": "fa6d5f88-fa9d-428c-8387-b8c6402163fa"
   },
   "outputs": [
    {
     "data": {
      "text/plain": [
       "(torch.Size([5197, 12]), torch.Size([65, 12]), torch.Size([1235, 12]))"
      ]
     },
     "execution_count": 11,
     "metadata": {},
     "output_type": "execute_result"
    }
   ],
   "source": [
    "X_train.shape, X_test.shape, X_valid.shape"
   ]
  },
  {
   "cell_type": "code",
   "execution_count": 12,
   "metadata": {
    "colab": {
     "base_uri": "https://localhost:8080/"
    },
    "executionInfo": {
     "elapsed": 4,
     "status": "ok",
     "timestamp": 1714289324097,
     "user": {
      "displayName": "Илья Новосёлов",
      "userId": "04072096185475752535"
     },
     "user_tz": -420
    },
    "id": "mC60GFAADeh3",
    "outputId": "e0da4ea7-b6c0-4474-c86b-251972edf05d"
   },
   "outputs": [
    {
     "data": {
      "text/plain": [
       "(torch.Size([5197]), torch.Size([65]), torch.Size([1235]))"
      ]
     },
     "execution_count": 12,
     "metadata": {},
     "output_type": "execute_result"
    }
   ],
   "source": [
    "y_train.shape, y_test.shape, y_valid.shape"
   ]
  },
  {
   "cell_type": "code",
   "execution_count": 13,
   "metadata": {
    "executionInfo": {
     "elapsed": 4,
     "status": "ok",
     "timestamp": 1714289326320,
     "user": {
      "displayName": "Илья Новосёлов",
      "userId": "04072096185475752535"
     },
     "user_tz": -420
    },
    "id": "fo68B4d2b0W6"
   },
   "outputs": [],
   "source": [
    "batch_size = 32"
   ]
  },
  {
   "cell_type": "code",
   "execution_count": 14,
   "metadata": {
    "executionInfo": {
     "elapsed": 4,
     "status": "ok",
     "timestamp": 1714289326321,
     "user": {
      "displayName": "Илья Новосёлов",
      "userId": "04072096185475752535"
     },
     "user_tz": -420
    },
    "id": "W8vbcxpoaCyg"
   },
   "outputs": [],
   "source": [
    "# Создание наборов данных\n",
    "train_dataset = TensorDataset(X_train, y_train)\n",
    "valid_dataset = TensorDataset(X_valid, y_valid)\n",
    "test_dataset = TensorDataset(X_test, y_test)\n",
    "\n",
    "# Создание DataLoader\n",
    "train_loader = DataLoader(train_dataset, batch_size=batch_size, shuffle=True)\n",
    "valid_loader = DataLoader(valid_dataset, batch_size=batch_size, shuffle=False)\n",
    "test_loader = DataLoader(test_dataset, batch_size=batch_size, shuffle=False)"
   ]
  },
  {
   "cell_type": "code",
   "execution_count": 133,
   "metadata": {
    "executionInfo": {
     "elapsed": 2,
     "status": "ok",
     "timestamp": 1714289195318,
     "user": {
      "displayName": "Илья Новосёлов",
      "userId": "04072096185475752535"
     },
     "user_tz": -420
    },
    "id": "Abq7-bY-aC1C"
   },
   "outputs": [],
   "source": []
  },
  {
   "cell_type": "code",
   "execution_count": null,
   "metadata": {
    "id": "-2_Nz12yaC3f"
   },
   "outputs": [],
   "source": []
  },
  {
   "cell_type": "code",
   "execution_count": 57,
   "metadata": {
    "executionInfo": {
     "elapsed": 464,
     "status": "ok",
     "timestamp": 1714287457801,
     "user": {
      "displayName": "Илья Новосёлов",
      "userId": "04072096185475752535"
     },
     "user_tz": -420
    },
    "id": "P7cj5VugG4wI"
   },
   "outputs": [],
   "source": [
    "# Build model with non-linear activation function\n",
    "from torch import nn"
   ]
  },
  {
   "cell_type": "code",
   "execution_count": 104,
   "metadata": {
    "executionInfo": {
     "elapsed": 600,
     "status": "ok",
     "timestamp": 1714290594507,
     "user": {
      "displayName": "Илья Новосёлов",
      "userId": "04072096185475752535"
     },
     "user_tz": -420
    },
    "id": "YZzFf9PHD7Jn"
   },
   "outputs": [],
   "source": [
    "class WineClassifier(nn.Module):\n",
    "    def __init__(self, input_size, hidden_size, output_size):\n",
    "        super(WineClassifier, self).__init__()\n",
    "        self.liner_1 = nn.Linear(input_size, hidden_size)\n",
    "        self.relu = nn.ReLU()\n",
    "        self.liner_2 = nn.Linear(hidden_size, 64)\n",
    "        self.drop = nn.Dropout(0.1)\n",
    "        self.fc = nn.Linear(64, output_size)\n",
    "\n",
    "    def forward(self, x):\n",
    "        out = self.liner_1(x)\n",
    "        out = self.relu(out)\n",
    "        out = self.drop(out)\n",
    "        out = self.liner_2(out)\n",
    "        out = self.relu(out)\n",
    "        out = self.fc(out)\n",
    "        return out"
   ]
  },
  {
   "cell_type": "code",
   "execution_count": 105,
   "metadata": {
    "executionInfo": {
     "elapsed": 550,
     "status": "ok",
     "timestamp": 1714286683378,
     "user": {
      "displayName": "Илья Новосёлов",
      "userId": "04072096185475752535"
     },
     "user_tz": -420
    },
    "id": "yZTHLGsNSU4c"
   },
   "outputs": [],
   "source": [
    "def train(model, optimizer, loss_fn, train_loader, val_loader, epochs=5, device=\"cpu\"):\n",
    "    for epoch in range(epochs):\n",
    "        training_loss = 0.0\n",
    "        valid_loss = 0.0\n",
    "        model.train()\n",
    "        for batch in train_loader:\n",
    "            optimizer.zero_grad()\n",
    "            inputs, targets = batch\n",
    "            inputs = inputs.to(device)\n",
    "            targets = targets.to(device)\n",
    "            output = model(inputs)\n",
    "            loss = loss_fn(output, targets)\n",
    "            loss.backward()\n",
    "            optimizer.step()\n",
    "            training_loss += loss.data.item() * inputs.size(0)\n",
    "        training_loss /= len(train_loader.dataset)\n",
    "\n",
    "        model.eval()\n",
    "        num_correct = 0\n",
    "        num_examples = 0\n",
    "        for batch in val_loader:\n",
    "            inputs, targets = batch\n",
    "            inputs = inputs.to(device)\n",
    "            output = model(inputs)\n",
    "            targets = targets.to(device)\n",
    "            loss = loss_fn(output,targets)\n",
    "            valid_loss += loss.data.item() * inputs.size(0)\n",
    "\n",
    "            correct = torch.eq(torch.max(F.softmax(output, dim=1), dim=1)[1], targets).view(-1)\n",
    "            num_correct += torch.sum(correct).item()\n",
    "            num_examples += correct.shape[0]\n",
    "        valid_loss /= len(val_loader.dataset)\n",
    "\n",
    "        print('Epoch: {}, Training Loss: {:.4f}, Validation Loss: {:.4f}, accuracy = {:.4f}'.format(epoch, training_loss,\n",
    "        valid_loss, num_correct / num_examples))"
   ]
  },
  {
   "cell_type": "code",
   "execution_count": null,
   "metadata": {
    "id": "X0FenFQMduCx"
   },
   "outputs": [],
   "source": [
    "y = model(X_test)"
   ]
  },
  {
   "cell_type": "code",
   "execution_count": 84,
   "metadata": {
    "colab": {
     "base_uri": "https://localhost:8080/"
    },
    "executionInfo": {
     "elapsed": 516,
     "status": "ok",
     "timestamp": 1714287285477,
     "user": {
      "displayName": "Илья Новосёлов",
      "userId": "04072096185475752535"
     },
     "user_tz": -420
    },
    "id": "_oVykdo1e_qp",
    "outputId": "279b371f-a8cb-4ef1-9981-e6b1051ba4b5"
   },
   "outputs": [
    {
     "data": {
      "text/plain": [
       "torch.Size([65])"
      ]
     },
     "execution_count": 84,
     "metadata": {},
     "output_type": "execute_result"
    }
   ],
   "source": [
    "y_test.shape"
   ]
  },
  {
   "cell_type": "code",
   "execution_count": 85,
   "metadata": {
    "executionInfo": {
     "elapsed": 572,
     "status": "ok",
     "timestamp": 1714287314527,
     "user": {
      "displayName": "Илья Новосёлов",
      "userId": "04072096185475752535"
     },
     "user_tz": -420
    },
    "id": "6hzH9uTHel_0"
   },
   "outputs": [],
   "source": [
    "loss = criterion(y,y_test.unsqueeze(1))"
   ]
  },
  {
   "cell_type": "markdown",
   "metadata": {},
   "source": [
    "### MLFlow"
   ]
  },
  {
   "cell_type": "code",
   "execution_count": 18,
   "metadata": {},
   "outputs": [
    {
     "name": "stdout",
     "output_type": "stream",
     "text": [
      "Epoch: 0, Training Loss: 0.2757, Validation Loss: 0.2305, accuracy = 0.9206\n",
      "Epoch: 1, Training Loss: 0.2052, Validation Loss: 0.2217, accuracy = 0.9328\n",
      "Epoch: 2, Training Loss: 0.1905, Validation Loss: 0.2032, accuracy = 0.9352\n",
      "Epoch: 3, Training Loss: 0.1684, Validation Loss: 0.2198, accuracy = 0.9287\n",
      "Epoch: 4, Training Loss: 0.1601, Validation Loss: 0.1649, accuracy = 0.9401\n",
      "Epoch: 5, Training Loss: 0.1468, Validation Loss: 0.1540, accuracy = 0.9538\n",
      "Epoch: 6, Training Loss: 0.1356, Validation Loss: 0.1377, accuracy = 0.9530\n",
      "Epoch: 7, Training Loss: 0.1235, Validation Loss: 0.1303, accuracy = 0.9555\n",
      "Epoch: 8, Training Loss: 0.1171, Validation Loss: 0.1347, accuracy = 0.9522\n",
      "Epoch: 9, Training Loss: 0.1078, Validation Loss: 0.1291, accuracy = 0.9603\n",
      "Epoch: 10, Training Loss: 0.1017, Validation Loss: 0.1203, accuracy = 0.9644\n",
      "Epoch: 11, Training Loss: 0.0987, Validation Loss: 0.1194, accuracy = 0.9660\n",
      "Epoch: 12, Training Loss: 0.0948, Validation Loss: 0.1116, accuracy = 0.9692\n",
      "Epoch: 13, Training Loss: 0.0859, Validation Loss: 0.1184, accuracy = 0.9660\n",
      "Epoch: 14, Training Loss: 0.0856, Validation Loss: 0.1034, accuracy = 0.9692\n",
      "Epoch: 15, Training Loss: 0.0902, Validation Loss: 0.1130, accuracy = 0.9660\n",
      "Epoch: 16, Training Loss: 0.0811, Validation Loss: 0.1057, accuracy = 0.9725\n",
      "Epoch: 17, Training Loss: 0.0819, Validation Loss: 0.1009, accuracy = 0.9684\n",
      "Epoch: 18, Training Loss: 0.0765, Validation Loss: 0.1033, accuracy = 0.9700\n",
      "Epoch: 19, Training Loss: 0.0755, Validation Loss: 0.1012, accuracy = 0.9717\n",
      "Epoch: 20, Training Loss: 0.0814, Validation Loss: 0.1099, accuracy = 0.9692\n",
      "Epoch: 21, Training Loss: 0.0747, Validation Loss: 0.0929, accuracy = 0.9733\n",
      "Epoch: 22, Training Loss: 0.0664, Validation Loss: 0.1066, accuracy = 0.9709\n",
      "Epoch: 23, Training Loss: 0.0716, Validation Loss: 0.0920, accuracy = 0.9757\n",
      "Epoch: 24, Training Loss: 0.0676, Validation Loss: 0.0913, accuracy = 0.9757\n"
     ]
    },
    {
     "name": "stderr",
     "output_type": "stream",
     "text": [
      "Q:\\Python\\Anaconda\\Lib\\site-packages\\_distutils_hack\\__init__.py:33: UserWarning: Setuptools is replacing distutils.\n",
      "  warnings.warn(\"Setuptools is replacing distutils.\")\n"
     ]
    }
   ],
   "source": [
    "input_size = 12\n",
    "hidden_size = 32\n",
    "output_size = 2\n",
    "learning_rate = 0.001\n",
    "num_epochs = 25\n",
    "model = WineClassifier(input_size, hidden_size, output_size)\n",
    "criterion = torch.nn.CrossEntropyLoss()\n",
    "optimizer = optim.Adam(model.parameters(), lr=learning_rate)\n",
    "device = \"cuda\" if torch.cuda.is_available() else \"cpu\"\n",
    "\n",
    "with mlflow.start_run():\n",
    "    params = {\n",
    "        \"epochs\": num_epochs,\n",
    "        \"learning_rate\": learning_rate,\n",
    "        \"batch_size\": batch_size,\n",
    "        \"loss_function\": criterion.__class__.__name__,\n",
    "        \"optimizer\": optimizer.__class__.__name__,\n",
    "        \"input_size\": 12,\n",
    "        \"hidden_size\": 32,\n",
    "        \"output_size\": 2,\n",
    "        \"device\": device\n",
    "    }\n",
    "    # Log training parameters.\n",
    "    mlflow.log_params(params)\n",
    "\n",
    "    # Log model summary.\n",
    "    with open(\"model_summary.txt\", \"w\", encoding=\"utf-8\") as f:\n",
    "        f.write(str(summary(model)))\n",
    "    mlflow.log_artifact(\"model_summary.txt\")\n",
    "\n",
    "    train(model, optimizer, criterion, train_loader, valid_loader, epochs=num_epochs, device=device)\n",
    "    \n",
    "    # Save the trained model to MLflow.\n",
    "    mlflow.pytorch.log_model(model, \"model\")"
   ]
  },
  {
   "cell_type": "markdown",
   "metadata": {},
   "source": [
    "### MLFlow 2 "
   ]
  },
  {
   "cell_type": "code",
   "execution_count": 96,
   "metadata": {},
   "outputs": [],
   "source": [
    "class WineClassifier(nn.Module, PythonModel):\n",
    "    def __init__(self, input_size, hidden_size, output_size):\n",
    "        super(WineClassifier, self).__init__()\n",
    "        self.liner_1 = nn.Linear(input_size, hidden_size)\n",
    "        self.relu = nn.ReLU()\n",
    "        self.liner_2 = nn.Linear(hidden_size, 64)\n",
    "        self.drop = nn.Dropout(0.1)\n",
    "        self.fc = nn.Linear(64, output_size)\n",
    "\n",
    "    def forward(self, x):\n",
    "        out = self.liner_1(x)\n",
    "        out = self.relu(out)\n",
    "        out = self.drop(out)\n",
    "        out = self.liner_2(out)\n",
    "        out = self.relu(out)\n",
    "        out = self.fc(out)\n",
    "        return out"
   ]
  },
  {
   "cell_type": "code",
   "execution_count": 97,
   "metadata": {},
   "outputs": [
    {
     "name": "stdout",
     "output_type": "stream",
     "text": [
      "Epoch: 0, Training Loss: 0.3161, Validation Loss: 0.2196, accuracy = 0.9279\n",
      "Epoch: 1, Training Loss: 0.1933, Validation Loss: 0.2056, accuracy = 0.9328\n",
      "Epoch: 2, Training Loss: 0.1762, Validation Loss: 0.1925, accuracy = 0.9304\n",
      "Epoch: 3, Training Loss: 0.1721, Validation Loss: 0.1768, accuracy = 0.9377\n",
      "Epoch: 4, Training Loss: 0.1595, Validation Loss: 0.1626, accuracy = 0.9433\n",
      "Epoch: 5, Training Loss: 0.1497, Validation Loss: 0.1577, accuracy = 0.9457\n",
      "Epoch: 6, Training Loss: 0.1478, Validation Loss: 0.1454, accuracy = 0.9474\n",
      "Epoch: 7, Training Loss: 0.1335, Validation Loss: 0.1472, accuracy = 0.9522\n",
      "Epoch: 8, Training Loss: 0.1294, Validation Loss: 0.1538, accuracy = 0.9530\n",
      "Epoch: 9, Training Loss: 0.1208, Validation Loss: 0.1334, accuracy = 0.9563\n",
      "Epoch: 10, Training Loss: 0.1208, Validation Loss: 0.1269, accuracy = 0.9603\n",
      "Epoch: 11, Training Loss: 0.1167, Validation Loss: 0.1239, accuracy = 0.9595\n",
      "Epoch: 12, Training Loss: 0.1070, Validation Loss: 0.1314, accuracy = 0.9628\n",
      "Epoch: 13, Training Loss: 0.1033, Validation Loss: 0.1320, accuracy = 0.9611\n",
      "Epoch: 14, Training Loss: 0.1003, Validation Loss: 0.1082, accuracy = 0.9700\n",
      "Epoch: 15, Training Loss: 0.0946, Validation Loss: 0.1099, accuracy = 0.9676\n",
      "Epoch: 16, Training Loss: 0.0942, Validation Loss: 0.1039, accuracy = 0.9709\n",
      "Epoch: 17, Training Loss: 0.0927, Validation Loss: 0.1297, accuracy = 0.9644\n",
      "Epoch: 18, Training Loss: 0.0841, Validation Loss: 0.1181, accuracy = 0.9660\n",
      "Epoch: 19, Training Loss: 0.0822, Validation Loss: 0.1150, accuracy = 0.9692\n",
      "Epoch: 20, Training Loss: 0.0781, Validation Loss: 0.1195, accuracy = 0.9660\n",
      "Epoch: 21, Training Loss: 0.0796, Validation Loss: 0.1022, accuracy = 0.9725\n",
      "Epoch: 22, Training Loss: 0.0698, Validation Loss: 0.1002, accuracy = 0.9725\n",
      "Epoch: 23, Training Loss: 0.0646, Validation Loss: 0.0995, accuracy = 0.9749\n",
      "Epoch: 24, Training Loss: 0.0670, Validation Loss: 0.0993, accuracy = 0.9717\n"
     ]
    }
   ],
   "source": [
    "input_size = 12\n",
    "hidden_size = 32\n",
    "output_size = 2\n",
    "learning_rate = 0.001\n",
    "num_epochs = 25\n",
    "model = WineClassifier(input_size, hidden_size, output_size)\n",
    "criterion = torch.nn.CrossEntropyLoss()\n",
    "optimizer = optim.Adam(model.parameters(), lr=learning_rate)\n",
    "device = \"cuda\" if torch.cuda.is_available() else \"cpu\"\n",
    "    \n",
    "with mlflow.start_run():\n",
    "    params = {\n",
    "        \"epochs\": num_epochs,\n",
    "        \"learning_rate\": learning_rate,\n",
    "        \"batch_size\": batch_size,\n",
    "        \"loss_function\": criterion.__class__.__name__,\n",
    "        \"optimizer\": optimizer.__class__.__name__,\n",
    "        \"input_size\": 12,\n",
    "        \"hidden_size\": 32,\n",
    "        \"output_size\": 2,\n",
    "        \"device\": device\n",
    "    }\n",
    "    # Log training parameters.\n",
    "    mlflow.log_params(params)\n",
    "\n",
    "    # Log model summary.\n",
    "    with open(\"model_summary.txt\", \"w\", encoding=\"utf-8\") as f:\n",
    "        f.write(str(summary(model)))\n",
    "    mlflow.log_artifact(\"model_summary.txt\")\n",
    "\n",
    "    train(model, optimizer, criterion, train_loader, valid_loader, epochs=num_epochs, device=device)\n",
    "    \n",
    "    # Save the trained model to MLflow.\n",
    "    mlflow.pytorch.log_model(model, \"model_wine_class\")"
   ]
  },
  {
   "cell_type": "code",
   "execution_count": 100,
   "metadata": {},
   "outputs": [],
   "source": [
    "logged_model = f\"runs:/b56dcd2a30474511b28e61e07cf73919/model_wine_class\"\n",
    "loaded_model = mlflow.pyfunc.load_model(logged_model)\n",
    "PATH_X_data = './Data_wine.json'\n",
    "X_test = pd.read_json(PATH_X_data, orient='split')\n",
    "outputs = loaded_model.predict(X_test)"
   ]
  },
  {
   "cell_type": "code",
   "execution_count": 101,
   "metadata": {},
   "outputs": [
    {
     "data": {
      "text/html": [
       "<div>\n",
       "<style scoped>\n",
       "    .dataframe tbody tr th:only-of-type {\n",
       "        vertical-align: middle;\n",
       "    }\n",
       "\n",
       "    .dataframe tbody tr th {\n",
       "        vertical-align: top;\n",
       "    }\n",
       "\n",
       "    .dataframe thead th {\n",
       "        text-align: right;\n",
       "    }\n",
       "</style>\n",
       "<table border=\"1\" class=\"dataframe\">\n",
       "  <thead>\n",
       "    <tr style=\"text-align: right;\">\n",
       "      <th></th>\n",
       "      <th>0</th>\n",
       "      <th>1</th>\n",
       "    </tr>\n",
       "  </thead>\n",
       "  <tbody>\n",
       "    <tr>\n",
       "      <th>0</th>\n",
       "      <td>5.519547</td>\n",
       "      <td>-2.332828</td>\n",
       "    </tr>\n",
       "    <tr>\n",
       "      <th>1</th>\n",
       "      <td>3.885866</td>\n",
       "      <td>-2.118336</td>\n",
       "    </tr>\n",
       "    <tr>\n",
       "      <th>2</th>\n",
       "      <td>5.975141</td>\n",
       "      <td>-2.472467</td>\n",
       "    </tr>\n",
       "    <tr>\n",
       "      <th>3</th>\n",
       "      <td>0.349096</td>\n",
       "      <td>0.162678</td>\n",
       "    </tr>\n",
       "    <tr>\n",
       "      <th>4</th>\n",
       "      <td>4.277761</td>\n",
       "      <td>-2.564372</td>\n",
       "    </tr>\n",
       "    <tr>\n",
       "      <th>...</th>\n",
       "      <td>...</td>\n",
       "      <td>...</td>\n",
       "    </tr>\n",
       "    <tr>\n",
       "      <th>60</th>\n",
       "      <td>-0.024931</td>\n",
       "      <td>1.116817</td>\n",
       "    </tr>\n",
       "    <tr>\n",
       "      <th>61</th>\n",
       "      <td>2.444933</td>\n",
       "      <td>-0.851327</td>\n",
       "    </tr>\n",
       "    <tr>\n",
       "      <th>62</th>\n",
       "      <td>-4.740518</td>\n",
       "      <td>5.500774</td>\n",
       "    </tr>\n",
       "    <tr>\n",
       "      <th>63</th>\n",
       "      <td>0.242847</td>\n",
       "      <td>0.313418</td>\n",
       "    </tr>\n",
       "    <tr>\n",
       "      <th>64</th>\n",
       "      <td>2.524109</td>\n",
       "      <td>-1.551502</td>\n",
       "    </tr>\n",
       "  </tbody>\n",
       "</table>\n",
       "<p>65 rows × 2 columns</p>\n",
       "</div>"
      ],
      "text/plain": [
       "           0         1\n",
       "0   5.519547 -2.332828\n",
       "1   3.885866 -2.118336\n",
       "2   5.975141 -2.472467\n",
       "3   0.349096  0.162678\n",
       "4   4.277761 -2.564372\n",
       "..       ...       ...\n",
       "60 -0.024931  1.116817\n",
       "61  2.444933 -0.851327\n",
       "62 -4.740518  5.500774\n",
       "63  0.242847  0.313418\n",
       "64  2.524109 -1.551502\n",
       "\n",
       "[65 rows x 2 columns]"
      ]
     },
     "execution_count": 101,
     "metadata": {},
     "output_type": "execute_result"
    }
   ],
   "source": [
    "outputs"
   ]
  },
  {
   "cell_type": "code",
   "execution_count": null,
   "metadata": {
    "executionInfo": {
     "elapsed": 2,
     "status": "ok",
     "timestamp": 1714290626775,
     "user": {
      "displayName": "Илья Новосёлов",
      "userId": "04072096185475752535"
     },
     "user_tz": -420
    },
    "id": "ZdQYHBlzgZaR"
   },
   "outputs": [],
   "source": [
    "predictions = make_predictions(model, test_loader)"
   ]
  },
  {
   "cell_type": "code",
   "execution_count": null,
   "metadata": {
    "id": "kqUnFBIRgdrA"
   },
   "outputs": [],
   "source": [
    "predictions"
   ]
  },
  {
   "cell_type": "code",
   "execution_count": 170,
   "metadata": {
    "executionInfo": {
     "elapsed": 474,
     "status": "ok",
     "timestamp": 1714290631211,
     "user": {
      "displayName": "Илья Новосёлов",
      "userId": "04072096185475752535"
     },
     "user_tz": -420
    },
    "id": "HZRi3xOdge7h"
   },
   "outputs": [],
   "source": [
    "# Получение истинных меток и предсказанных меток\n",
    "true_labels = torch.tensor([label for _, label in test_dataset])\n",
    "predicted_labels = torch.tensor(predictions)"
   ]
  },
  {
   "cell_type": "code",
   "execution_count": 146,
   "metadata": {
    "executionInfo": {
     "elapsed": 476,
     "status": "ok",
     "timestamp": 1714289362960,
     "user": {
      "displayName": "Илья Новосёлов",
      "userId": "04072096185475752535"
     },
     "user_tz": -420
    },
    "id": "Gugnm7GghJbA"
   },
   "outputs": [],
   "source": [
    "model.eval()\n",
    "with torch.inference_mode():\n",
    "    outputs = model(X_test.to(device))"
   ]
  },
  {
   "cell_type": "code",
   "execution_count": null,
   "metadata": {
    "id": "65PgbcNbhg7M"
   },
   "outputs": [],
   "source": [
    "outputs"
   ]
  },
  {
   "cell_type": "code",
   "execution_count": 108,
   "metadata": {
    "colab": {
     "base_uri": "https://localhost:8080/"
    },
    "executionInfo": {
     "elapsed": 1082,
     "status": "ok",
     "timestamp": 1714287793769,
     "user": {
      "displayName": "Илья Новосёлов",
      "userId": "04072096185475752535"
     },
     "user_tz": -420
    },
    "id": "egTJKpcLg3SC",
    "outputId": "921c8c62-a71c-429f-bd8d-8e369ec877a0"
   },
   "outputs": [
    {
     "data": {
      "text/plain": [
       "tensor([0., 0., 0., 0., 0., 0., 1., 0., 0., 1., 0., 0., 1., 0., 0., 0., 0., 0.,\n",
       "        1., 1., 0., 0., 1., 0., 0., 1., 0., 0., 0., 0., 0., 0., 1., 0., 0., 0.,\n",
       "        0., 0., 0., 0., 0., 0., 0., 0., 0., 0., 1., 0., 0., 1., 0., 1., 0., 1.,\n",
       "        1., 0., 0., 1., 0., 0., 1., 0., 1., 0., 0.])"
      ]
     },
     "execution_count": 108,
     "metadata": {},
     "output_type": "execute_result"
    }
   ],
   "source": [
    "true_labels"
   ]
  },
  {
   "cell_type": "code",
   "execution_count": null,
   "metadata": {},
   "outputs": [],
   "source": []
  },
  {
   "cell_type": "markdown",
   "metadata": {},
   "source": [
    "### Wine Classifier V2"
   ]
  },
  {
   "cell_type": "code",
   "execution_count": 43,
   "metadata": {},
   "outputs": [],
   "source": [
    "class WineClassifier(nn.Module):\n",
    "    def __init__(self, input_size, hidden_size):\n",
    "        super(WineClassifier, self).__init__()\n",
    "        self.liner_1 = nn.Linear(input_size, hidden_size)\n",
    "        self.relu = nn.ReLU()\n",
    "        self.liner_2 = nn.Linear(hidden_size, 64)\n",
    "        self.drop = nn.Dropout(0.1)\n",
    "        self.fc = nn.Linear(64, 2)  # output_size = 2 для двух классов\n",
    "\n",
    "    def forward(self, x):\n",
    "        out = self.liner_1(x)\n",
    "        out = self.relu(out)\n",
    "        out = self.drop(out)\n",
    "        out = self.liner_2(out)\n",
    "        out = self.relu(out)\n",
    "        out = self.fc(out)\n",
    "        _, predicted = torch.max(out, 1)\n",
    "        return predicted"
   ]
  },
  {
   "cell_type": "code",
   "execution_count": 54,
   "metadata": {},
   "outputs": [],
   "source": [
    "import torch.nn.functional as F\n",
    "\n",
    "def train_v2(model, optimizer, loss_fn, train_loader, val_loader, epochs=5, device=\"cpu\"):\n",
    "    for epoch in range(epochs):\n",
    "        training_loss = 0.0\n",
    "        valid_loss = 0.0\n",
    "        model.train()\n",
    "        for inputs, targets in train_loader:\n",
    "            optimizer.zero_grad()\n",
    "            inputs = inputs.to(device)\n",
    "            targets = targets.float().to(device)\n",
    "            output = model(inputs)\n",
    "            loss = loss_fn(output.squeeze(), targets)  # Используем binary_cross_entropy_with_logits\n",
    "            loss.backward()\n",
    "            optimizer.step()\n",
    "            training_loss += loss.data.item() * inputs.size(0)\n",
    "        training_loss /= len(train_loader.dataset)\n",
    "\n",
    "        model.eval()\n",
    "        num_correct = 0\n",
    "        num_examples = 0\n",
    "        for inputs, targets in val_loader:\n",
    "            inputs = inputs.to(device)\n",
    "            output = model(inputs)\n",
    "            targets = targets.float().to(device)\n",
    "            loss = loss_fn(output.squeeze(), targets)  # Используем binary_cross_entropy_with_logits\n",
    "            valid_loss += loss.data.item() * inputs.size(0)\n",
    "\n",
    "            predicted_classes = torch.round(torch.sigmoid(output))  # Преобразуем в предсказанные классы (0 или 1)\n",
    "            num_correct += (predicted_classes == targets).sum().item()\n",
    "            num_examples += targets.size(0)\n",
    "        valid_loss /= len(val_loader.dataset)\n",
    "\n",
    "        print('Epoch: {}, Training Loss: {:.4f}, Validation Loss: {:.4f}, accuracy = {:.4f}'.format(epoch, training_loss,\n",
    "        valid_loss, num_correct / num_examples))\n"
   ]
  },
  {
   "cell_type": "code",
   "execution_count": 55,
   "metadata": {
    "scrolled": true
   },
   "outputs": [
    {
     "ename": "RuntimeError",
     "evalue": "Found dtype Float but expected Long",
     "output_type": "error",
     "traceback": [
      "\u001b[1;31m---------------------------------------------------------------------------\u001b[0m",
      "\u001b[1;31mRuntimeError\u001b[0m                              Traceback (most recent call last)",
      "Cell \u001b[1;32mIn[55], line 17\u001b[0m\n\u001b[0;32m     14\u001b[0m optimizer \u001b[38;5;241m=\u001b[39m optim\u001b[38;5;241m.\u001b[39mAdam(model\u001b[38;5;241m.\u001b[39mparameters(), lr\u001b[38;5;241m=\u001b[39mlearning_rate)\n\u001b[0;32m     15\u001b[0m device \u001b[38;5;241m=\u001b[39m \u001b[38;5;124m\"\u001b[39m\u001b[38;5;124mcuda\u001b[39m\u001b[38;5;124m\"\u001b[39m \u001b[38;5;28;01mif\u001b[39;00m torch\u001b[38;5;241m.\u001b[39mcuda\u001b[38;5;241m.\u001b[39mis_available() \u001b[38;5;28;01melse\u001b[39;00m \u001b[38;5;124m\"\u001b[39m\u001b[38;5;124mcpu\u001b[39m\u001b[38;5;124m\"\u001b[39m\n\u001b[1;32m---> 17\u001b[0m train_v2(model, optimizer, criterion, train_loader, valid_loader, epochs\u001b[38;5;241m=\u001b[39mnum_epochs, device\u001b[38;5;241m=\u001b[39mdevice)\n",
      "Cell \u001b[1;32mIn[54], line 13\u001b[0m, in \u001b[0;36mtrain_v2\u001b[1;34m(model, optimizer, loss_fn, train_loader, val_loader, epochs, device)\u001b[0m\n\u001b[0;32m     11\u001b[0m targets \u001b[38;5;241m=\u001b[39m targets\u001b[38;5;241m.\u001b[39mfloat()\u001b[38;5;241m.\u001b[39mto(device)\n\u001b[0;32m     12\u001b[0m output \u001b[38;5;241m=\u001b[39m model(inputs)\n\u001b[1;32m---> 13\u001b[0m loss \u001b[38;5;241m=\u001b[39m loss_fn(output\u001b[38;5;241m.\u001b[39msqueeze(), targets)  \u001b[38;5;66;03m# Используем binary_cross_entropy_with_logits\u001b[39;00m\n\u001b[0;32m     14\u001b[0m loss\u001b[38;5;241m.\u001b[39mbackward()\n\u001b[0;32m     15\u001b[0m optimizer\u001b[38;5;241m.\u001b[39mstep()\n",
      "File \u001b[1;32mQ:\\Python\\Anaconda\\Lib\\site-packages\\torch\\nn\\modules\\module.py:1501\u001b[0m, in \u001b[0;36mModule._call_impl\u001b[1;34m(self, *args, **kwargs)\u001b[0m\n\u001b[0;32m   1496\u001b[0m \u001b[38;5;66;03m# If we don't have any hooks, we want to skip the rest of the logic in\u001b[39;00m\n\u001b[0;32m   1497\u001b[0m \u001b[38;5;66;03m# this function, and just call forward.\u001b[39;00m\n\u001b[0;32m   1498\u001b[0m \u001b[38;5;28;01mif\u001b[39;00m \u001b[38;5;129;01mnot\u001b[39;00m (\u001b[38;5;28mself\u001b[39m\u001b[38;5;241m.\u001b[39m_backward_hooks \u001b[38;5;129;01mor\u001b[39;00m \u001b[38;5;28mself\u001b[39m\u001b[38;5;241m.\u001b[39m_backward_pre_hooks \u001b[38;5;129;01mor\u001b[39;00m \u001b[38;5;28mself\u001b[39m\u001b[38;5;241m.\u001b[39m_forward_hooks \u001b[38;5;129;01mor\u001b[39;00m \u001b[38;5;28mself\u001b[39m\u001b[38;5;241m.\u001b[39m_forward_pre_hooks\n\u001b[0;32m   1499\u001b[0m         \u001b[38;5;129;01mor\u001b[39;00m _global_backward_pre_hooks \u001b[38;5;129;01mor\u001b[39;00m _global_backward_hooks\n\u001b[0;32m   1500\u001b[0m         \u001b[38;5;129;01mor\u001b[39;00m _global_forward_hooks \u001b[38;5;129;01mor\u001b[39;00m _global_forward_pre_hooks):\n\u001b[1;32m-> 1501\u001b[0m     \u001b[38;5;28;01mreturn\u001b[39;00m forward_call(\u001b[38;5;241m*\u001b[39margs, \u001b[38;5;241m*\u001b[39m\u001b[38;5;241m*\u001b[39mkwargs)\n\u001b[0;32m   1502\u001b[0m \u001b[38;5;66;03m# Do not call functions when jit is used\u001b[39;00m\n\u001b[0;32m   1503\u001b[0m full_backward_hooks, non_full_backward_hooks \u001b[38;5;241m=\u001b[39m [], []\n",
      "File \u001b[1;32mQ:\\Python\\Anaconda\\Lib\\site-packages\\torch\\nn\\modules\\loss.py:619\u001b[0m, in \u001b[0;36mBCELoss.forward\u001b[1;34m(self, input, target)\u001b[0m\n\u001b[0;32m    618\u001b[0m \u001b[38;5;28;01mdef\u001b[39;00m \u001b[38;5;21mforward\u001b[39m(\u001b[38;5;28mself\u001b[39m, \u001b[38;5;28minput\u001b[39m: Tensor, target: Tensor) \u001b[38;5;241m-\u001b[39m\u001b[38;5;241m>\u001b[39m Tensor:\n\u001b[1;32m--> 619\u001b[0m     \u001b[38;5;28;01mreturn\u001b[39;00m F\u001b[38;5;241m.\u001b[39mbinary_cross_entropy(\u001b[38;5;28minput\u001b[39m, target, weight\u001b[38;5;241m=\u001b[39m\u001b[38;5;28mself\u001b[39m\u001b[38;5;241m.\u001b[39mweight, reduction\u001b[38;5;241m=\u001b[39m\u001b[38;5;28mself\u001b[39m\u001b[38;5;241m.\u001b[39mreduction)\n",
      "File \u001b[1;32mQ:\\Python\\Anaconda\\Lib\\site-packages\\torch\\nn\\functional.py:3098\u001b[0m, in \u001b[0;36mbinary_cross_entropy\u001b[1;34m(input, target, weight, size_average, reduce, reduction)\u001b[0m\n\u001b[0;32m   3095\u001b[0m     new_size \u001b[38;5;241m=\u001b[39m _infer_size(target\u001b[38;5;241m.\u001b[39msize(), weight\u001b[38;5;241m.\u001b[39msize())\n\u001b[0;32m   3096\u001b[0m     weight \u001b[38;5;241m=\u001b[39m weight\u001b[38;5;241m.\u001b[39mexpand(new_size)\n\u001b[1;32m-> 3098\u001b[0m \u001b[38;5;28;01mreturn\u001b[39;00m torch\u001b[38;5;241m.\u001b[39m_C\u001b[38;5;241m.\u001b[39m_nn\u001b[38;5;241m.\u001b[39mbinary_cross_entropy(\u001b[38;5;28minput\u001b[39m, target, weight, reduction_enum)\n",
      "\u001b[1;31mRuntimeError\u001b[0m: Found dtype Float but expected Long"
     ]
    }
   ],
   "source": [
    "# Гиперпараметры\n",
    "input_size = 12\n",
    "hidden_size = 32\n",
    "output_size = 2\n",
    "learning_rate = 0.001\n",
    "num_epochs = 25\n",
    "\n",
    "# Создание модели\n",
    "model = WineClassifier(input_size, hidden_size)\n",
    "\n",
    "# Определение функции потерь и оптимизатора\n",
    "criterion = nn.BCELoss()\n",
    "#criterion = torch.nn.CrossEntropyLoss()\n",
    "optimizer = optim.Adam(model.parameters(), lr=learning_rate)\n",
    "device = \"cuda\" if torch.cuda.is_available() else \"cpu\"\n",
    "\n",
    "train_v2(model, optimizer, criterion, train_loader, valid_loader, epochs=num_epochs, device=device)"
   ]
  },
  {
   "cell_type": "code",
   "execution_count": 42,
   "metadata": {
    "colab": {
     "base_uri": "https://localhost:8080/"
    },
    "executionInfo": {
     "elapsed": 465,
     "status": "ok",
     "timestamp": 1714290637006,
     "user": {
      "displayName": "Илья Новосёлов",
      "userId": "04072096185475752535"
     },
     "user_tz": -420
    },
    "id": "VdQ0NAu_g59S",
    "outputId": "4198358a-dc77-4015-e817-ae8238af5db7",
    "scrolled": true
   },
   "outputs": [
    {
     "ename": "NameError",
     "evalue": "name 'true_labels' is not defined",
     "output_type": "error",
     "traceback": [
      "\u001b[1;31m---------------------------------------------------------------------------\u001b[0m",
      "\u001b[1;31mNameError\u001b[0m                                 Traceback (most recent call last)",
      "Cell \u001b[1;32mIn[42], line 4\u001b[0m\n\u001b[0;32m      1\u001b[0m \u001b[38;5;28;01mfrom\u001b[39;00m \u001b[38;5;21;01msklearn\u001b[39;00m\u001b[38;5;21;01m.\u001b[39;00m\u001b[38;5;21;01mmetrics\u001b[39;00m \u001b[38;5;28;01mimport\u001b[39;00m accuracy_score, precision_score, recall_score, f1_score, confusion_matrix\n\u001b[0;32m      3\u001b[0m \u001b[38;5;66;03m# Конвертация меток из тензоров PyTorch в обычные массивы NumPy\u001b[39;00m\n\u001b[1;32m----> 4\u001b[0m true_labels \u001b[38;5;241m=\u001b[39m true_labels\u001b[38;5;241m.\u001b[39mnumpy()\n\u001b[0;32m      5\u001b[0m predicted_labels \u001b[38;5;241m=\u001b[39m predicted_labels\u001b[38;5;241m.\u001b[39mnumpy()\n\u001b[0;32m      7\u001b[0m \u001b[38;5;66;03m# Вычисление метрик\u001b[39;00m\n",
      "\u001b[1;31mNameError\u001b[0m: name 'true_labels' is not defined"
     ]
    }
   ],
   "source": [
    "from sklearn.metrics import accuracy_score, precision_score, recall_score, f1_score, confusion_matrix\n",
    "\n",
    "# Конвертация меток из тензоров PyTorch в обычные массивы NumPy\n",
    "true_labels = true_labels.numpy()\n",
    "predicted_labels = predicted_labels.numpy()\n",
    "\n",
    "# Вычисление метрик\n",
    "accuracy = accuracy_score(true_labels, predicted_labels)\n",
    "precision = precision_score(true_labels, predicted_labels)\n",
    "recall = recall_score(true_labels, predicted_labels)\n",
    "f1 = f1_score(true_labels, predicted_labels)\n",
    "conf_matrix = confusion_matrix(true_labels, predicted_labels)\n",
    "\n",
    "print(f'Accuracy: {accuracy}')\n",
    "print(f'Precision: {precision}')\n",
    "print(f'Recall: {recall}')\n",
    "print(f'F1 Score: {f1}')\n",
    "print('Confusion Matrix:')\n",
    "print(conf_matrix)\n"
   ]
  },
  {
   "cell_type": "code",
   "execution_count": 103,
   "metadata": {},
   "outputs": [],
   "source": [
    "def make_predictions(model, X_data):\n",
    "    predictions = []\n",
    "    model.eval()\n",
    "    with torch.inference_mode():\n",
    "        X_data = X_data.to(device)\n",
    "        outputs = model(X_data)\n",
    "        _, predicted = torch.max(outputs, 1)\n",
    "    return predicted"
   ]
  },
  {
   "cell_type": "code",
   "execution_count": 106,
   "metadata": {},
   "outputs": [
    {
     "name": "stdout",
     "output_type": "stream",
     "text": [
      "Epoch: 0, Training Loss: 0.4794, Validation Loss: 0.2423, accuracy = 0.9190\n",
      "Epoch: 1, Training Loss: 0.2150, Validation Loss: 0.2349, accuracy = 0.9190\n",
      "Epoch: 2, Training Loss: 0.1994, Validation Loss: 0.2081, accuracy = 0.9312\n",
      "Epoch: 3, Training Loss: 0.1937, Validation Loss: 0.2103, accuracy = 0.9255\n",
      "Epoch: 4, Training Loss: 0.1839, Validation Loss: 0.1999, accuracy = 0.9328\n",
      "Epoch: 5, Training Loss: 0.1788, Validation Loss: 0.1916, accuracy = 0.9328\n",
      "Epoch: 6, Training Loss: 0.1728, Validation Loss: 0.1987, accuracy = 0.9247\n",
      "Epoch: 7, Training Loss: 0.1642, Validation Loss: 0.1749, accuracy = 0.9368\n",
      "Epoch: 8, Training Loss: 0.1538, Validation Loss: 0.1624, accuracy = 0.9425\n",
      "Epoch: 9, Training Loss: 0.1443, Validation Loss: 0.1542, accuracy = 0.9401\n",
      "Epoch: 10, Training Loss: 0.1404, Validation Loss: 0.1515, accuracy = 0.9522\n",
      "Epoch: 11, Training Loss: 0.1313, Validation Loss: 0.1313, accuracy = 0.9563\n",
      "Epoch: 12, Training Loss: 0.1199, Validation Loss: 0.1472, accuracy = 0.9490\n",
      "Epoch: 13, Training Loss: 0.1128, Validation Loss: 0.1236, accuracy = 0.9603\n",
      "Epoch: 14, Training Loss: 0.1092, Validation Loss: 0.1295, accuracy = 0.9563\n",
      "Epoch: 15, Training Loss: 0.1034, Validation Loss: 0.1277, accuracy = 0.9611\n",
      "Epoch: 16, Training Loss: 0.0924, Validation Loss: 0.1072, accuracy = 0.9717\n",
      "Epoch: 17, Training Loss: 0.0847, Validation Loss: 0.1059, accuracy = 0.9692\n",
      "Epoch: 18, Training Loss: 0.0840, Validation Loss: 0.1249, accuracy = 0.9644\n",
      "Epoch: 19, Training Loss: 0.0880, Validation Loss: 0.1211, accuracy = 0.9636\n",
      "Epoch: 20, Training Loss: 0.0794, Validation Loss: 0.1021, accuracy = 0.9717\n",
      "Epoch: 21, Training Loss: 0.0813, Validation Loss: 0.0958, accuracy = 0.9741\n",
      "Epoch: 22, Training Loss: 0.0759, Validation Loss: 0.1019, accuracy = 0.9692\n",
      "Epoch: 23, Training Loss: 0.0717, Validation Loss: 0.0961, accuracy = 0.9709\n",
      "Epoch: 24, Training Loss: 0.0708, Validation Loss: 0.0934, accuracy = 0.9749\n"
     ]
    }
   ],
   "source": [
    "input_size = 12\n",
    "hidden_size = 32\n",
    "output_size = 2\n",
    "learning_rate = 0.001\n",
    "num_epochs = 25\n",
    "model = WineClassifier(input_size, hidden_size, output_size)\n",
    "criterion = torch.nn.CrossEntropyLoss()\n",
    "optimizer = optim.Adam(model.parameters(), lr=learning_rate)\n",
    "device = \"cuda\" if torch.cuda.is_available() else \"cpu\"\n",
    "\n",
    "train(model, optimizer, criterion, train_loader, valid_loader, epochs=num_epochs, device=device)"
   ]
  },
  {
   "cell_type": "code",
   "execution_count": 107,
   "metadata": {},
   "outputs": [],
   "source": [
    "PATH_X_data = './Data_wine.json'\n",
    "X_test = pd.read_json(PATH_X_data, orient='split').values\n",
    "\n",
    "out = make_predictions(model,torch.Tensor(X_test))"
   ]
  },
  {
   "cell_type": "code",
   "execution_count": 108,
   "metadata": {},
   "outputs": [
    {
     "data": {
      "text/plain": [
       "tensor([0, 0, 0, 1, 0, 0, 1, 0, 0, 1, 0, 0, 1, 0, 0, 0, 0, 0, 1, 1, 0, 0, 0, 0,\n",
       "        0, 1, 0, 0, 0, 0, 0, 0, 1, 0, 0, 0, 0, 0, 0, 0, 0, 0, 0, 0, 0, 0, 1, 0,\n",
       "        0, 1, 0, 1, 1, 1, 1, 0, 0, 1, 0, 0, 1, 0, 1, 1, 0])"
      ]
     },
     "execution_count": 108,
     "metadata": {},
     "output_type": "execute_result"
    }
   ],
   "source": [
    "out"
   ]
  },
  {
   "cell_type": "code",
   "execution_count": 158,
   "metadata": {
    "executionInfo": {
     "elapsed": 525,
     "status": "ok",
     "timestamp": 1714290049103,
     "user": {
      "displayName": "Илья Новосёлов",
      "userId": "04072096185475752535"
     },
     "user_tz": -420
    },
    "id": "jJntMfVupgvR"
   },
   "outputs": [],
   "source": [
    "#from torchmetrics import ConfusionMatrix\n",
    "from mlxtend.plotting import plot_confusion_matrix"
   ]
  },
  {
   "cell_type": "code",
   "execution_count": 160,
   "metadata": {
    "executionInfo": {
     "elapsed": 840,
     "status": "ok",
     "timestamp": 1714290199286,
     "user": {
      "displayName": "Илья Новосёлов",
      "userId": "04072096185475752535"
     },
     "user_tz": -420
    },
    "id": "dviqN0gYppLF"
   },
   "outputs": [],
   "source": [
    "label_to_class_name = {1: 'красное вино', 0: 'белое вино'}"
   ]
  },
  {
   "cell_type": "code",
   "execution_count": 172,
   "metadata": {
    "colab": {
     "base_uri": "https://localhost:8080/",
     "height": 500
    },
    "executionInfo": {
     "elapsed": 716,
     "status": "ok",
     "timestamp": 1714290650207,
     "user": {
      "displayName": "Илья Новосёлов",
      "userId": "04072096185475752535"
     },
     "user_tz": -420
    },
    "id": "NqY1PnDiphMx",
    "outputId": "73b72548-5b10-47f6-f292-b12e55cabd27"
   },
   "outputs": [
    {
     "data": {
      "image/png": "[encoded data removed]",
      "text/plain": [
       "<Figure size 640x480 with 1 Axes>"
      ]
     },
     "metadata": {},
     "output_type": "display_data"
    }
   ],
   "source": [
    "fig, ax = plot_confusion_matrix(conf_mat=conf_matrix, class_names=label_to_class_name)\n",
    "plt.suptitle('Матрица ошибок', fontsize=16)\n",
    "plt.show()"
   ]
  },
  {
   "cell_type": "code",
   "execution_count": 173,
   "metadata": {
    "executionInfo": {
     "elapsed": 651,
     "status": "ok",
     "timestamp": 1714294146714,
     "user": {
      "displayName": "Илья Новосёлов",
      "userId": "04072096185475752535"
     },
     "user_tz": -420
    },
    "id": "LGFnNqFPqJNh"
   },
   "outputs": [],
   "source": [
    "torch.save(model.state_dict(), \"/content/drive/MyDrive/Colab Notebooks/wine_model.pth\")"
   ]
  },
  {
   "cell_type": "code",
   "execution_count": null,
   "metadata": {
    "id": "X2S62FVI5MHb"
   },
   "outputs": [],
   "source": []
  },
  {
   "cell_type": "code",
   "execution_count": null,
   "metadata": {},
   "outputs": [],
   "source": []
  },
  {
   "cell_type": "code",
   "execution_count": null,
   "metadata": {},
   "outputs": [],
   "source": []
  },
  {
   "cell_type": "code",
   "execution_count": null,
   "metadata": {},
   "outputs": [],
   "source": []
  },
  {
   "cell_type": "code",
   "execution_count": null,
   "metadata": {},
   "outputs": [],
   "source": []
  },
  {
   "cell_type": "code",
   "execution_count": null,
   "metadata": {},
   "outputs": [],
   "source": []
  },
  {
   "cell_type": "code",
   "execution_count": null,
   "metadata": {},
   "outputs": [],
   "source": []
  },
  {
   "cell_type": "code",
   "execution_count": 111,
   "metadata": {},
   "outputs": [
    {
     "name": "stdout",
     "output_type": "stream",
     "text": [
      "__        __ _                       ____  _                   _   __  _             \n",
      "\\ \\      / /(_) _ __    ___         / ___|| |  __ _  ___  ___ (_) / _|(_)  ___  _ __ \n",
      " \\ \\ /\\ / / | || '_ \\  / _ \\       | |    | | / _` |/ __|/ __|| || |_ | | / _ \\| '__|\n",
      "  \\ V  V /  | || | | ||  __/       | |___ | || (_| |\\__ \\\\__ \\| ||  _|| ||  __/| |   \n",
      "   \\_/\\_/   |_||_| |_| \\___| _____  \\____||_| \\__,_||___/|___/|_||_|  |_| \\___||_|   \n",
      "                            |_____|                                                  \n",
      "\n",
      "Epoch: 0, Training Loss: 0.2457, Validation Loss: 0.2083, accuracy = 0.9304\n",
      "Epoch: 1, Training Loss: 0.1823, Validation Loss: 0.2039, accuracy = 0.9312\n",
      "Epoch: 2, Training Loss: 0.1671, Validation Loss: 0.1753, accuracy = 0.9344\n",
      "Epoch: 3, Training Loss: 0.1637, Validation Loss: 0.1625, accuracy = 0.9441\n",
      "Epoch: 4, Training Loss: 0.1475, Validation Loss: 0.1653, accuracy = 0.9433\n",
      "Epoch: 5, Training Loss: 0.1404, Validation Loss: 0.1461, accuracy = 0.9530\n",
      "Epoch: 6, Training Loss: 0.1366, Validation Loss: 0.1749, accuracy = 0.9401\n",
      "Epoch: 7, Training Loss: 0.1299, Validation Loss: 0.1387, accuracy = 0.9579\n",
      "Epoch: 8, Training Loss: 0.1186, Validation Loss: 0.1450, accuracy = 0.9538\n",
      "Epoch: 9, Training Loss: 0.1160, Validation Loss: 0.1279, accuracy = 0.9603\n",
      "Epoch: 10, Training Loss: 0.1073, Validation Loss: 0.1240, accuracy = 0.9619\n",
      "Epoch: 11, Training Loss: 0.1142, Validation Loss: 0.1193, accuracy = 0.9660\n",
      "Epoch: 12, Training Loss: 0.1075, Validation Loss: 0.1137, accuracy = 0.9676\n",
      "Epoch: 13, Training Loss: 0.0986, Validation Loss: 0.1173, accuracy = 0.9676\n",
      "Epoch: 14, Training Loss: 0.0976, Validation Loss: 0.1130, accuracy = 0.9676\n",
      "Epoch: 15, Training Loss: 0.0950, Validation Loss: 0.1174, accuracy = 0.9660\n",
      "Epoch: 16, Training Loss: 0.0874, Validation Loss: 0.1087, accuracy = 0.9684\n",
      "Epoch: 17, Training Loss: 0.0870, Validation Loss: 0.1027, accuracy = 0.9709\n",
      "Epoch: 18, Training Loss: 0.0856, Validation Loss: 0.1013, accuracy = 0.9717\n",
      "Epoch: 19, Training Loss: 0.0807, Validation Loss: 0.1040, accuracy = 0.9709\n",
      "Epoch: 20, Training Loss: 0.0785, Validation Loss: 0.0999, accuracy = 0.9733\n",
      "Epoch: 21, Training Loss: 0.0764, Validation Loss: 0.1057, accuracy = 0.9676\n",
      "Epoch: 22, Training Loss: 0.0735, Validation Loss: 0.0956, accuracy = 0.9741\n",
      "Epoch: 23, Training Loss: 0.0719, Validation Loss: 0.0947, accuracy = 0.9741\n",
      "Epoch: 24, Training Loss: 0.0699, Validation Loss: 0.0931, accuracy = 0.9765\n"
     ]
    },
    {
     "ename": "MlflowException",
     "evalue": "`python_model` must be a PythonModel instance or a callable object",
     "output_type": "error",
     "traceback": [
      "\u001b[1;31m---------------------------------------------------------------------------\u001b[0m",
      "\u001b[1;31mMlflowException\u001b[0m                           Traceback (most recent call last)",
      "Cell \u001b[1;32mIn[111], line 76\u001b[0m\n\u001b[0;32m     73\u001b[0m mlflow\u001b[38;5;241m.\u001b[39mlog_artifact(\u001b[38;5;124m\"\u001b[39m\u001b[38;5;124mmodel_summary.txt\u001b[39m\u001b[38;5;124m\"\u001b[39m)\n\u001b[0;32m     75\u001b[0m wine_predictor \u001b[38;5;241m=\u001b[39m WinePredictor(model)\n\u001b[1;32m---> 76\u001b[0m mlflow\u001b[38;5;241m.\u001b[39mpyfunc\u001b[38;5;241m.\u001b[39mlog_model(\u001b[38;5;124m\"\u001b[39m\u001b[38;5;124mmodel\u001b[39m\u001b[38;5;124m\"\u001b[39m,\n\u001b[0;32m     77\u001b[0m                         python_model\u001b[38;5;241m=\u001b[39mwine_predictor)\n\u001b[0;32m     79\u001b[0m \u001b[38;5;66;03m# Save the function\u001b[39;00m\n\u001b[0;32m     80\u001b[0m mlflow\u001b[38;5;241m.\u001b[39mpyfunc\u001b[38;5;241m.\u001b[39msave_model(path\u001b[38;5;241m=\u001b[39m\u001b[38;5;124m\"\u001b[39m\u001b[38;5;124mpath_to_save\u001b[39m\u001b[38;5;124m\"\u001b[39m)\n",
      "File \u001b[1;32mQ:\\Python\\Anaconda\\Lib\\site-packages\\mlflow\\pyfunc\\__init__.py:2540\u001b[0m, in \u001b[0;36mlog_model\u001b[1;34m(artifact_path, loader_module, data_path, code_path, code_paths, conda_env, python_model, artifacts, registered_model_name, signature, input_example, await_registration_for, pip_requirements, extra_pip_requirements, metadata, model_config, example_no_conversion)\u001b[0m\n\u001b[0;32m   2363\u001b[0m \u001b[38;5;129m@format_docstring\u001b[39m(LOG_MODEL_PARAM_DOCS\u001b[38;5;241m.\u001b[39mformat(package_name\u001b[38;5;241m=\u001b[39m\u001b[38;5;124m\"\u001b[39m\u001b[38;5;124mscikit-learn\u001b[39m\u001b[38;5;124m\"\u001b[39m))\n\u001b[0;32m   2364\u001b[0m \u001b[38;5;28;01mdef\u001b[39;00m \u001b[38;5;21mlog_model\u001b[39m(\n\u001b[0;32m   2365\u001b[0m     artifact_path,\n\u001b[1;32m   (...)\u001b[0m\n\u001b[0;32m   2381\u001b[0m     example_no_conversion\u001b[38;5;241m=\u001b[39m\u001b[38;5;28;01mFalse\u001b[39;00m,\n\u001b[0;32m   2382\u001b[0m ):\n\u001b[0;32m   2383\u001b[0m \u001b[38;5;250m    \u001b[39m\u001b[38;5;124;03m\"\"\"\u001b[39;00m\n\u001b[0;32m   2384\u001b[0m \u001b[38;5;124;03m    Log a Pyfunc model with custom inference logic and optional data dependencies as an MLflow\u001b[39;00m\n\u001b[0;32m   2385\u001b[0m \u001b[38;5;124;03m    artifact for the current run.\u001b[39;00m\n\u001b[1;32m   (...)\u001b[0m\n\u001b[0;32m   2538\u001b[0m \u001b[38;5;124;03m        metadata of the logged model.\u001b[39;00m\n\u001b[0;32m   2539\u001b[0m \u001b[38;5;124;03m    \"\"\"\u001b[39;00m\n\u001b[1;32m-> 2540\u001b[0m     \u001b[38;5;28;01mreturn\u001b[39;00m Model\u001b[38;5;241m.\u001b[39mlog(\n\u001b[0;32m   2541\u001b[0m         artifact_path\u001b[38;5;241m=\u001b[39martifact_path,\n\u001b[0;32m   2542\u001b[0m         flavor\u001b[38;5;241m=\u001b[39mmlflow\u001b[38;5;241m.\u001b[39mpyfunc,\n\u001b[0;32m   2543\u001b[0m         loader_module\u001b[38;5;241m=\u001b[39mloader_module,\n\u001b[0;32m   2544\u001b[0m         data_path\u001b[38;5;241m=\u001b[39mdata_path,\n\u001b[0;32m   2545\u001b[0m         code_path\u001b[38;5;241m=\u001b[39mcode_path,  \u001b[38;5;66;03m# deprecated\u001b[39;00m\n\u001b[0;32m   2546\u001b[0m         code_paths\u001b[38;5;241m=\u001b[39mcode_paths,\n\u001b[0;32m   2547\u001b[0m         python_model\u001b[38;5;241m=\u001b[39mpython_model,\n\u001b[0;32m   2548\u001b[0m         artifacts\u001b[38;5;241m=\u001b[39martifacts,\n\u001b[0;32m   2549\u001b[0m         conda_env\u001b[38;5;241m=\u001b[39mconda_env,\n\u001b[0;32m   2550\u001b[0m         registered_model_name\u001b[38;5;241m=\u001b[39mregistered_model_name,\n\u001b[0;32m   2551\u001b[0m         signature\u001b[38;5;241m=\u001b[39msignature,\n\u001b[0;32m   2552\u001b[0m         input_example\u001b[38;5;241m=\u001b[39minput_example,\n\u001b[0;32m   2553\u001b[0m         await_registration_for\u001b[38;5;241m=\u001b[39mawait_registration_for,\n\u001b[0;32m   2554\u001b[0m         pip_requirements\u001b[38;5;241m=\u001b[39mpip_requirements,\n\u001b[0;32m   2555\u001b[0m         extra_pip_requirements\u001b[38;5;241m=\u001b[39mextra_pip_requirements,\n\u001b[0;32m   2556\u001b[0m         metadata\u001b[38;5;241m=\u001b[39mmetadata,\n\u001b[0;32m   2557\u001b[0m         model_config\u001b[38;5;241m=\u001b[39mmodel_config,\n\u001b[0;32m   2558\u001b[0m         example_no_conversion\u001b[38;5;241m=\u001b[39mexample_no_conversion,\n\u001b[0;32m   2559\u001b[0m     )\n",
      "File \u001b[1;32mQ:\\Python\\Anaconda\\Lib\\site-packages\\mlflow\\models\\model.py:625\u001b[0m, in \u001b[0;36mModel.log\u001b[1;34m(cls, artifact_path, flavor, registered_model_name, await_registration_for, metadata, run_id, **kwargs)\u001b[0m\n\u001b[0;32m    623\u001b[0m     run_id \u001b[38;5;241m=\u001b[39m mlflow\u001b[38;5;241m.\u001b[39mtracking\u001b[38;5;241m.\u001b[39mfluent\u001b[38;5;241m.\u001b[39m_get_or_start_run()\u001b[38;5;241m.\u001b[39minfo\u001b[38;5;241m.\u001b[39mrun_id\n\u001b[0;32m    624\u001b[0m mlflow_model \u001b[38;5;241m=\u001b[39m \u001b[38;5;28mcls\u001b[39m(artifact_path\u001b[38;5;241m=\u001b[39martifact_path, run_id\u001b[38;5;241m=\u001b[39mrun_id, metadata\u001b[38;5;241m=\u001b[39mmetadata)\n\u001b[1;32m--> 625\u001b[0m flavor\u001b[38;5;241m.\u001b[39msave_model(path\u001b[38;5;241m=\u001b[39mlocal_path, mlflow_model\u001b[38;5;241m=\u001b[39mmlflow_model, \u001b[38;5;241m*\u001b[39m\u001b[38;5;241m*\u001b[39mkwargs)\n\u001b[0;32m    627\u001b[0m \u001b[38;5;66;03m# Copy model metadata files to a sub-directory 'metadata',\u001b[39;00m\n\u001b[0;32m    628\u001b[0m \u001b[38;5;66;03m# For UC sharing use-cases.\u001b[39;00m\n\u001b[0;32m    629\u001b[0m metadata_path \u001b[38;5;241m=\u001b[39m os\u001b[38;5;241m.\u001b[39mpath\u001b[38;5;241m.\u001b[39mjoin(local_path, \u001b[38;5;124m\"\u001b[39m\u001b[38;5;124mmetadata\u001b[39m\u001b[38;5;124m\"\u001b[39m)\n",
      "File \u001b[1;32mQ:\\Python\\Anaconda\\Lib\\site-packages\\mlflow\\pyfunc\\__init__.py:2206\u001b[0m, in \u001b[0;36msave_model\u001b[1;34m(path, loader_module, data_path, code_path, code_paths, conda_env, mlflow_model, python_model, artifacts, signature, input_example, pip_requirements, extra_pip_requirements, metadata, model_config, example_no_conversion, **kwargs)\u001b[0m\n\u001b[0;32m   2204\u001b[0m _validate_pyfunc_model_config(model_config)\n\u001b[0;32m   2205\u001b[0m \u001b[38;5;28;01mif\u001b[39;00m python_model:\n\u001b[1;32m-> 2206\u001b[0m     _validate_function_python_model(python_model)\n\u001b[0;32m   2207\u001b[0m     \u001b[38;5;28;01mif\u001b[39;00m \u001b[38;5;28mcallable\u001b[39m(python_model) \u001b[38;5;129;01mand\u001b[39;00m \u001b[38;5;28mall\u001b[39m(\n\u001b[0;32m   2208\u001b[0m         a \u001b[38;5;129;01mis\u001b[39;00m \u001b[38;5;28;01mNone\u001b[39;00m \u001b[38;5;28;01mfor\u001b[39;00m a \u001b[38;5;129;01min\u001b[39;00m (input_example, pip_requirements, extra_pip_requirements)\n\u001b[0;32m   2209\u001b[0m     ):\n\u001b[0;32m   2210\u001b[0m         \u001b[38;5;28;01mraise\u001b[39;00m MlflowException(\n\u001b[0;32m   2211\u001b[0m             \u001b[38;5;124m\"\u001b[39m\u001b[38;5;124mIf `python_model` is a callable object, at least one of `input_example`, \u001b[39m\u001b[38;5;124m\"\u001b[39m\n\u001b[0;32m   2212\u001b[0m             \u001b[38;5;124m\"\u001b[39m\u001b[38;5;124m`pip_requirements`, or `extra_pip_requirements` must be specified.\u001b[39m\u001b[38;5;124m\"\u001b[39m\n\u001b[0;32m   2213\u001b[0m         )\n",
      "File \u001b[1;32mQ:\\Python\\Anaconda\\Lib\\site-packages\\mlflow\\pyfunc\\__init__.py:2025\u001b[0m, in \u001b[0;36m_validate_function_python_model\u001b[1;34m(python_model)\u001b[0m\n\u001b[0;32m   2023\u001b[0m \u001b[38;5;28;01mdef\u001b[39;00m \u001b[38;5;21m_validate_function_python_model\u001b[39m(python_model):\n\u001b[0;32m   2024\u001b[0m     \u001b[38;5;28;01mif\u001b[39;00m \u001b[38;5;129;01mnot\u001b[39;00m (\u001b[38;5;28misinstance\u001b[39m(python_model, PythonModel) \u001b[38;5;129;01mor\u001b[39;00m \u001b[38;5;28mcallable\u001b[39m(python_model)):\n\u001b[1;32m-> 2025\u001b[0m         \u001b[38;5;28;01mraise\u001b[39;00m MlflowException(\n\u001b[0;32m   2026\u001b[0m             \u001b[38;5;124m\"\u001b[39m\u001b[38;5;124m`python_model` must be a PythonModel instance or a callable object\u001b[39m\u001b[38;5;124m\"\u001b[39m,\n\u001b[0;32m   2027\u001b[0m             error_code\u001b[38;5;241m=\u001b[39mINVALID_PARAMETER_VALUE,\n\u001b[0;32m   2028\u001b[0m         )\n\u001b[0;32m   2030\u001b[0m     \u001b[38;5;28;01mif\u001b[39;00m \u001b[38;5;28mcallable\u001b[39m(python_model):\n\u001b[0;32m   2031\u001b[0m         num_args \u001b[38;5;241m=\u001b[39m \u001b[38;5;28mlen\u001b[39m(inspect\u001b[38;5;241m.\u001b[39msignature(python_model)\u001b[38;5;241m.\u001b[39mparameters)\n",
      "\u001b[1;31mMlflowException\u001b[0m: `python_model` must be a PythonModel instance or a callable object"
     ]
    }
   ],
   "source": [
    "import torch\n",
    "import torch.optim as optim\n",
    "from torch import nn\n",
    "import pandas as pd\n",
    "import json\n",
    "\n",
    "from art import tprint\n",
    "from tqdm import tqdm\n",
    "import mlflow\n",
    "tprint(\"Wine_Classifier\")\n",
    "\n",
    "class WinePredictor:\n",
    "    def __init__(self, model):\n",
    "        self.model = model\n",
    "\n",
    "    def predict(self, X_data):\n",
    "        predictions = []\n",
    "        self.model.eval()\n",
    "        with torch.inference_mode():\n",
    "            outputs = self.model(X_data)\n",
    "            _, predicted = torch.max(outputs, 1)\n",
    "            predicted_list = ['red' if value == 1 else 'white' for value in predicted.numpy()]\n",
    "        return predicted_list\n",
    "\n",
    "class WineClassifier(nn.Module, PythonModel):\n",
    "    def __init__(self, input_size, hidden_size, output_size):\n",
    "        super(WineClassifier, self).__init__()\n",
    "        self.liner_1 = nn.Linear(input_size, hidden_size)\n",
    "        self.relu = nn.ReLU()\n",
    "        self.liner_2 = nn.Linear(hidden_size, 64)\n",
    "        self.drop = nn.Dropout(0.1)\n",
    "        self.fc = nn.Linear(64, output_size)\n",
    "\n",
    "    def forward(self, x):\n",
    "        out = self.liner_1(x)\n",
    "        out = self.relu(out)\n",
    "        out = self.drop(out)\n",
    "        out = self.liner_2(out)\n",
    "        out = self.relu(out)\n",
    "        out = self.fc(out)\n",
    "        return out\n",
    "\n",
    "input_size = 12\n",
    "hidden_size = 32\n",
    "output_size = 2\n",
    "learning_rate = 0.001\n",
    "num_epochs = 25\n",
    "model = WineClassifier(input_size, hidden_size, output_size)\n",
    "criterion = torch.nn.CrossEntropyLoss()\n",
    "optimizer = optim.Adam(model.parameters(), lr=learning_rate)\n",
    "device = \"cuda\" if torch.cuda.is_available() else \"cpu\"\n",
    "\n",
    "train(model, optimizer, criterion, train_loader, valid_loader, epochs=num_epochs, device=device)\n",
    "\n",
    "with mlflow.start_run():\n",
    "    params = {\n",
    "        \"epochs\": num_epochs,\n",
    "        \"learning_rate\": learning_rate,\n",
    "        \"batch_size\": batch_size,\n",
    "        \"loss_function\": criterion.__class__.__name__,\n",
    "        \"optimizer\": optimizer.__class__.__name__,\n",
    "        \"input_size\": 12,\n",
    "        \"hidden_size\": 32,\n",
    "        \"output_size\": 2,\n",
    "        \"device\": device\n",
    "    }\n",
    "    # Log training parameters.\n",
    "    mlflow.log_params(params)\n",
    "\n",
    "    # Log model summary.\n",
    "    with open(\"model_summary.txt\", \"w\", encoding=\"utf-8\") as f:\n",
    "        f.write(str(summary(model)))\n",
    "    mlflow.log_artifact(\"model_summary.txt\")\n",
    "\n",
    "    wine_predictor = WinePredictor(model)\n",
    "    mlflow.pyfunc.log_model(\"model\",\n",
    "                            python_model=wine_predictor)\n",
    "\n",
    "    # Save the function\n",
    "    mlflow.pyfunc.save_model(path=\"path_to_save\")"
   ]
  },
  {
   "cell_type": "code",
   "execution_count": null,
   "metadata": {},
   "outputs": [],
   "source": []
  }
 ],
 "metadata": {
  "colab": {
   "authorship_tag": "ABX9TyPW+sXEhcHOoi6xN/07/vk+",
   "mount_file_id": "1fmhaqg2HU0G_kn3HtkOhY_gZuBHFVy4y",
   "provenance": []
  },
  "kernelspec": {
   "display_name": "Python 3 (ipykernel)",
   "language": "python",
   "name": "python3"
  },
  "language_info": {
   "codemirror_mode": {
    "name": "ipython",
    "version": 3
   },
   "file_extension": ".py",
   "mimetype": "text/x-python",
   "name": "python",
   "nbconvert_exporter": "python",
   "pygments_lexer": "ipython3",
   "version": "3.11.5"
  }
 },
 "nbformat": 4,
 "nbformat_minor": 1
}
