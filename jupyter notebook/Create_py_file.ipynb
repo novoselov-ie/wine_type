{
 "cells": [
  {
   "cell_type": "code",
   "execution_count": null,
   "metadata": {
    "colab": {
     "base_uri": "https://localhost:8080/"
    },
    "executionInfo": {
     "elapsed": 373,
     "status": "error",
     "timestamp": 1714303510896,
     "user": {
      "displayName": "Илья Новосёлов",
      "userId": "04072096185475752535"
     },
     "user_tz": -420
    },
    "id": "3KohG5i_6VkZ",
    "outputId": "83783f29-e981-48b0-e1af-e492e76426e7"
   },
   "outputs": [
    {
     "name": "stderr",
     "output_type": "stream",
     "text": [
      "UsageError: unrecognized arguments: Notebooks/Alfa/WineClassifier.py\n"
     ]
    }
   ],
   "source": [
    "%%writefile WineClassifier.py\n",
    "import torch\n",
    "import torch.optim as optim\n",
    "from torch import nn\n",
    "import pandas as pd\n",
    "import json\n",
    "\n",
    "from art import tprint\n",
    "from tqdm import tqdm\n",
    "\n",
    "tprint(\"WineClassifier\")\n",
    "\n",
    "# Гиперпараметры\n",
    "input_size = 12\n",
    "hidden_size = 32\n",
    "output_size = 2\n",
    "PATH_X_data = '/content/drive/MyDrive/Colab Notebooks/Alfa/Data_wine.json'\n",
    "PATH_weight = '/content/drive/MyDrive/Colab Notebooks/Alfa/wine_model.pth'\n",
    "device = \"cuda\" if torch.cuda.is_available() else \"cpu\"\n",
    "\n",
    "class WineClassifier(nn.Module):\n",
    "    def __init__(self, input_size, hidden_size, output_size):\n",
    "        super(WineClassifier, self).__init__()\n",
    "        self.liner_1 = nn.Linear(input_size, hidden_size)\n",
    "        self.relu = nn.ReLU()\n",
    "        self.liner_2 = nn.Linear(hidden_size, 64)\n",
    "        self.drop = nn.Dropout(0.1)\n",
    "        self.fc = nn.Linear(64, output_size)\n",
    "\n",
    "    def forward(self, x):\n",
    "        out = self.liner_1(x)\n",
    "        out = self.relu(out)\n",
    "        out = self.drop(out)\n",
    "        out = self.liner_2(out)\n",
    "        out = self.relu(out)\n",
    "        out = self.fc(out)\n",
    "        return out\n",
    "\n",
    "def make_predictions(model, X_data, device = 'cpu'):\n",
    "    model.to(device)\n",
    "    model.eval()\n",
    "    with torch.inference_mode():\n",
    "        for batch in tqdm(X_data, desc=\"Making predictions\"):\n",
    "            outputs = model(X_data.to(device))\n",
    "            _, predicted = torch.max(outputs, 1)\n",
    "        return predicted\n",
    "\n",
    "X_test = pd.read_json(PATH_X_data, orient='split')\n",
    "X_tensor = torch.Tensor(X_test.values)\n",
    "\n",
    "# Создание модели\n",
    "model = WineClassifier(input_size, hidden_size, output_size)\n",
    "model.load_state_dict(torch.load(PATH_weight))\n",
    "\n",
    "print('Загрузка данных выполнена успешно!\\n')\n",
    "\n",
    "predictions = make_predictions(model, X_tensor, device)\n",
    "\n",
    "#Экспорт данных в json файл\n",
    "predicted_list = ['red' if value == 1 else 'white' for value in predictions]\n",
    "with open('predicted_data.json', 'w') as f:\n",
    "    json.dump(predicted_list, f)\n",
    "\n",
    "print('\\n\\nПредсказанные значения сохранены в файл \"predicted_data.json\"')"
   ]
  },
  {
   "cell_type": "code",
   "execution_count": null,
   "metadata": {
    "id": "qM5GjKtGuutW"
   },
   "outputs": [],
   "source": [
    "import torch\n",
    "import torch.optim as optim\n",
    "from torch import nn\n",
    "import pandas as pd\n",
    "import json\n",
    "\n",
    "from art import tprint\n",
    "from tqdm import tqdm\n",
    "\n",
    "tprint(\"WineClassifier\")\n",
    "\n",
    "# Гиперпараметры\n",
    "input_size = 12\n",
    "hidden_size = 32\n",
    "output_size = 2\n",
    "PATH_X_data = '/content/drive/MyDrive/Colab Notebooks/Alfa/Data_wine.json'\n",
    "PATH_weight = '/content/drive/MyDrive/Colab Notebooks/Alfa/wine_model.pth'\n",
    "device = \"cuda\" if torch.cuda.is_available() else \"cpu\"\n",
    "\n",
    "class WineClassifier(nn.Module):\n",
    "    def __init__(self, input_size, hidden_size, output_size):\n",
    "        super(WineClassifier, self).__init__()\n",
    "        self.liner_1 = nn.Linear(input_size, hidden_size)\n",
    "        self.relu = nn.ReLU()\n",
    "        self.liner_2 = nn.Linear(hidden_size, 64)\n",
    "        self.drop = nn.Dropout(0.1)\n",
    "        self.fc = nn.Linear(64, output_size)\n",
    "\n",
    "    def forward(self, x):\n",
    "        out = self.liner_1(x)\n",
    "        out = self.relu(out)\n",
    "        out = self.drop(out)\n",
    "        out = self.liner_2(out)\n",
    "        out = self.relu(out)\n",
    "        out = self.fc(out)\n",
    "        return out\n",
    "\n",
    "def make_predictions(model, X_data, device = 'cpu'):\n",
    "    model.to(device)\n",
    "    model.eval()\n",
    "    with torch.inference_mode():\n",
    "        for batch in tqdm(X_data, desc=\"Making predictions\"):\n",
    "            outputs = model(X_data.to(device))\n",
    "            _, predicted = torch.max(outputs, 1)\n",
    "        return predicted\n",
    "\n",
    "X_test = pd.read_json(PATH_X_data, orient='split')\n",
    "X_tensor = torch.Tensor(X_test.values)\n",
    "\n",
    "# Создание модели\n",
    "model = WineClassifier(input_size, hidden_size, output_size)\n",
    "model.load_state_dict(torch.load(PATH_weight))\n",
    "\n",
    "print('Загрузка данных выполнена успешно!\\n')\n",
    "\n",
    "predictions = make_predictions(model, X_tensor, device)\n",
    "\n",
    "#Экспорт данных в json файл\n",
    "predicted_list = ['red' if value == 1 else 'white' for value in predictions]\n",
    "with open('predicted_data.json', 'w') as f:\n",
    "    json.dump(predicted_list, f)\n",
    "\n",
    "print('\\n\\nПредсказанные значения сохранены в файл \"predicted_data.json\"')"
   ]
  },
  {
   "cell_type": "code",
   "execution_count": 2,
   "metadata": {},
   "outputs": [
    {
     "name": "stdout",
     "output_type": "stream",
     "text": [
      "Overwriting WineClassifier.py\n"
     ]
    }
   ],
   "source": [
    "%%writefile WineClassifier.py\n",
    "import torch\n",
    "import pandas as pd\n",
    "import json\n",
    "\n",
    "from art import tprint\n",
    "from tqdm import tqdm\n",
    "import mlflow\n",
    "\n",
    "tprint(\"Wine_Classifier\")\n",
    "\n",
    "def compare_cols(row):\n",
    "    if row[0] > row[1]:\n",
    "        return 0\n",
    "    else:\n",
    "        return 1\n",
    "\n",
    "logged_model = f\"runs:/e7988002ae554cb4a3e9c5705712f28f/model\"\n",
    "loaded_model = mlflow.pyfunc.load_model(logged_model)\n",
    "\n",
    "PATH_X_data = './Data_wine.json'\n",
    "X_test = pd.read_json(PATH_X_data, orient='split')\n",
    "\n",
    "print('Загрузка данных выполнена успешно!\\n')\n",
    "\n",
    "outputs = loaded_model.predict(X_test)\n",
    "df = outputs.apply(compare_cols, axis=1)\n",
    "\n",
    "#Экспорт данных в json файл\n",
    "predicted_list = ['red' if value == 1 else 'white' for value in df]\n",
    "with open('predicted_data.json', 'w') as f:\n",
    "    json.dump(predicted_list, f)\n",
    "\n",
    "print('\\n\\nПредсказанные значения сохранены в файл \"predicted_data.json\"')"
   ]
  },
  {
   "cell_type": "code",
   "execution_count": 5,
   "metadata": {},
   "outputs": [
    {
     "name": "stdout",
     "output_type": "stream",
     "text": [
      "Python 3.11.5\n"
     ]
    }
   ],
   "source": [
    "!python -V"
   ]
  },
  {
   "cell_type": "code",
   "execution_count": 63,
   "metadata": {},
   "outputs": [
    {
     "name": "stdout",
     "output_type": "stream",
     "text": [
      "__        __ _                       ____  _                   _   __  _             \n",
      "\\ \\      / /(_) _ __    ___         / ___|| |  __ _  ___  ___ (_) / _|(_)  ___  _ __ \n",
      " \\ \\ /\\ / / | || '_ \\  / _ \\       | |    | | / _` |/ __|/ __|| || |_ | | / _ \\| '__|\n",
      "  \\ V  V /  | || | | ||  __/       | |___ | || (_| |\\__ \\\\__ \\| ||  _|| ||  __/| |   \n",
      "   \\_/\\_/   |_||_| |_| \\___| _____  \\____||_| \\__,_||___/|___/|_||_|  |_| \\___||_|   \n",
      "                            |_____|                                                  \n",
      "\n",
      "Загрузка данных выполнена успешно!\n",
      "\n",
      "\n",
      "\n",
      "Предсказанные значения сохранены в файл \"predicted_data.json\"\n"
     ]
    }
   ],
   "source": [
    "import torch\n",
    "import pandas as pd\n",
    "import numpy as np\n",
    "import json\n",
    "\n",
    "from art import tprint\n",
    "from tqdm import tqdm\n",
    "import mlflow\n",
    "\n",
    "tprint(\"Wine_Classifier\")\n",
    "\n",
    "def make_predictions(model, X_data):\n",
    "    predictions = []\n",
    "    model.eval()\n",
    "    with torch.inference_mode():\n",
    "        outputs = model(X_data)\n",
    "        _, predicted = torch.max(outputs, 1)\n",
    "        predicted_list = ['red' if value == 1 else 'white' for value in predicted.numpy()]\n",
    "    return predicted_list\n",
    "\n",
    "logged_model = f\"runs:/e7988002ae554cb4a3e9c5705712f28f/model\"\n",
    "loaded_model = mlflow.pytorch.load_model(logged_model)\n",
    "\n",
    "\n",
    "PATH_X_data = './Data_wine.json'\n",
    "X_test = pd.read_json(PATH_X_data, orient='split').values\n",
    "\n",
    "print('Загрузка данных выполнена успешно!\\n')\n",
    "\n",
    "out_data = make_predictions(loaded_model,torch.Tensor(X_test))\n",
    "\n",
    "with open('predicted_data.json', 'w') as f:\n",
    "    json.dump(out_data, f)\n",
    "\n",
    "print('\\n\\nПредсказанные значения сохранены в файл \"predicted_data.json\"')"
   ]
  },
  {
   "cell_type": "code",
   "execution_count": null,
   "metadata": {},
   "outputs": [],
   "source": []
  }
 ],
 "metadata": {
  "colab": {
   "authorship_tag": "ABX9TyNT1gaHZnvmD3I2DCfmr4Xx",
   "mount_file_id": "1clBvi8SvNtgc01JPTMOkF9iEub18YhFJ",
   "provenance": []
  },
  "kernelspec": {
   "display_name": "Python 3 (ipykernel)",
   "language": "python",
   "name": "python3"
  },
  "language_info": {
   "codemirror_mode": {
    "name": "ipython",
    "version": 3
   },
   "file_extension": ".py",
   "mimetype": "text/x-python",
   "name": "python",
   "nbconvert_exporter": "python",
   "pygments_lexer": "ipython3",
   "version": "3.11.5"
  }
 },
 "nbformat": 4,
 "nbformat_minor": 1
}
